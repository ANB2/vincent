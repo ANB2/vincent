{
 "metadata": {
  "name": "",
  "signature": "sha256:fe947bb74a62b543e474d3589c13379a599523d7a2c7bea44aff525ea8f8eaac"
 },
 "nbformat": 3,
 "nbformat_minor": 0,
 "worksheets": [
  {
   "cells": [
    {
     "cell_type": "code",
     "collapsed": false,
     "input": [
      "import vincent\n",
      "import pandas as pd\n",
      "import random"
     ],
     "language": "python",
     "metadata": {},
     "outputs": [],
     "prompt_number": 7
    },
    {
     "cell_type": "code",
     "collapsed": false,
     "input": [
      "#Iterable\n",
      "list_data = [10, 20, 30, 20, 15, 30, 45]"
     ],
     "language": "python",
     "metadata": {},
     "outputs": [],
     "prompt_number": 8
    },
    {
     "cell_type": "code",
     "collapsed": false,
     "input": [
      "#Dicts of iterables\n",
      "cat_1 = ['y1', 'y2', 'y3', 'y4']\n",
      "index_1 = range(0, 21, 1)\n",
      "multi_iter1 = {'index': index_1}\n",
      "for cat in cat_1:\n",
      "    multi_iter1[cat] = [random.randint(10, 100) for x in index_1]\n",
      "\n",
      "cat_2 = ['y' + str(x) for x in range(0, 10, 1)]\n",
      "index_2 = range(1, 21, 1)\n",
      "multi_iter2 = {'index': index_2}\n",
      "for cat in cat_2:\n",
      "    multi_iter2[cat] = [random.randint(10, 100) for x in index_2]"
     ],
     "language": "python",
     "metadata": {},
     "outputs": [],
     "prompt_number": 9
    },
    {
     "cell_type": "code",
     "collapsed": false,
     "input": [
      "#Pandas\n",
      "\n",
      "farm_1 = {'apples': 10, 'berries': 32, 'squash': 21, 'melons': 13, 'corn': 18}\n",
      "farm_2 = {'apples': 15, 'berries': 43, 'squash': 17, 'melons': 10, 'corn': 22}\n",
      "farm_3 = {'apples': 6, 'berries': 24, 'squash': 22, 'melons': 16, 'corn': 30}\n",
      "farm_4 = {'apples': 12, 'berries': 30, 'squash': 15, 'melons': 9, 'corn': 15}\n",
      "\n",
      "farm_data = [farm_1, farm_2, farm_3, farm_4]\n",
      "farm_index = ['Farm 1', 'Farm 2', 'Farm 3', 'Farm 4']\n",
      "df_farm = pd.DataFrame(farm_data, index=farm_index)"
     ],
     "language": "python",
     "metadata": {},
     "outputs": [],
     "prompt_number": 10
    },
    {
     "cell_type": "code",
     "collapsed": false,
     "input": [
      "#As DataFrames\n",
      "index_3 = multi_iter2.pop('index')\n",
      "df_1 = pd.DataFrame(multi_iter2, index=index_3)\n",
      "df_1 = df_1.reindex(columns=sorted(df_1.columns))\n",
      "\n",
      "cat_4 = ['Metric_' + str(x) for x in range(0, 10, 1)]\n",
      "index_4 = ['Data 1', 'Data 2', 'Data 3', 'Data 4']\n",
      "data_3 = {}\n",
      "for cat in cat_4:\n",
      "    data_3[cat] = [random.randint(10, 100) for x in index_4]\n",
      "df_2 = pd.DataFrame(data_3, index=index_4)"
     ],
     "language": "python",
     "metadata": {},
     "outputs": [],
     "prompt_number": 11
    },
    {
     "cell_type": "code",
     "collapsed": false,
     "input": [
      "# import pandas.io.data as web\n",
      "# all_data = {}\n",
      "# for ticker in ['AAPL', 'GOOG', 'IBM', 'YHOO', 'MSFT']:\n",
      "#     all_data[ticker] = web.get_data_yahoo(ticker, '1/1/2010', '1/1/2013')\n",
      "# price = pd.DataFrame({tic: data['Adj Close']\n",
      "#                       for tic, data in all_data.items()})"
     ],
     "language": "python",
     "metadata": {},
     "outputs": [],
     "prompt_number": 12
    },
    {
     "cell_type": "code",
     "collapsed": false,
     "input": [
      "import collections\n",
      "text = 'The sun did not shine It was too wet to play So we sat in the house All that cold cold wet day sat there with Sally we sat there we two And I said How I wish we had something to do Too wet to go out and too cold to play ball So we sat in the house We did nothing at all So all we could do was to Sit Sit Sit Sit And we did not like it Not one little bit And then something went BUMP How that bump made us jump We looked Then we saw him step in on the mat We looked And we saw him The Cat in the Hat And he said to us Why do you sit there like that I know it is wet And the sun is not sunny But we can have lots of good fun that is funny I know some good games we could play Said the cat I know some new tricks Said the Cat in the Hat A lot of good tricks I will show them to you Your mother Will not mind at all if I do Then Sally and I Did not know what to say Our mother was out of the house For the day But the fish said No No Make that cat go away Tell that Cat in the Hat you do NOT want to play He should not be here He should not be about He should not be here When your mother is out Now Now Have no fear Have no fear said the cat My tricks are not bad Said the Cat in the Hat Why we can have lots of good fun if you wish With a game that I call UP UP UP with a fish Put me down said the fish This is no fun at all Put me down said the fish I do NOT wish to fall Have no fear said the cat I will not let you fall I will hold you up high as I stand on a ball With a book on one hand And a cup on my hat But that is not ALL I can do said the cat Look at me Look at me now said the cat With a cup and a cake on the top of my hat I can hold up TWO books I can hold up the fish And a little toy ship And some milk on a dish And look I can hop up and down on the ball But that is not all Oh no That is not all Look at me Look at me Look at me NOW It is fun to have fun But you have to know how I can hold up the cup And the milk and the cake I can hold up these books And the fish on a rake I can hold the toy ship And a little toy man And look With my tail I can hold a red fan I can fan with the fan As I hop on the ball But that is not all Oh no That is not all That is what the cat said Then he fell on his head He came down with a bump from up there on the ball And Sally and I We saw ALL the things fall And our fish came down too He fell into a pot He said Do I like this Oh no I do not This is not a good game Said our fish as he lit No I do not like it Not one little bit Now look what you did Said the fish to the cat Now look at this house Look at this Look at that You sank our toy ship Sank it deep in the cake You shook up our house And you bent our new rake You SHOULD NOT be here when our mother is not You get out of this house Said the fish in the pot But I like it here Oh I like it a lot Said the Cat in the Hat To the fish in the pot I will NOT go away I do NOT wish to go And so said the Cat in the Hat So so so I will show you Another good game that I know And then he ran out And then fast as a fox The Cat in the Hat Came back in with a box A big red wood box It was shut with a hook Now look at this trick Said the cat Take a look Then he got up on top With a tip of his hat I call this game FUN IN A BOX Said the cat In this box are two things I will show to you now You will like these two things Said the cat with a bow I will pick up the hook You will see something new Two things And I call them Thing One and Thing Two These things will not bite you They want to have fun Then out of the box Came Thing Two and Thing One And they ran to us fast They said How do you do Would you like to shake hands With Thing One and Thing Two And Sally and I Did now know what to do So we had to shake hands With Thing One and Thing Two We shook their two hands But our fish said No No Those Things should not be In this house Make them go They should not be here When your mother is not Put them out Put them out Said the fish in the pot Have no fear little fish Said the Cat in the Hat These things are good Things And he gave them a pat They are tame Oh so tame They have come here to play They will give you some fun On this wet wet day Now here is a game that they like Said the cat They like to fly kites Said the Cat in the Hat No Not in the house Said the fish in the pot They should not fly kites In a house They should not Oh the things they will bump Oh the things they will hit Oh I do not like it Not one little bit Then Sally and I Saw them run down the hall We saw those two Things Bump their kites on the wall Bump Thump Thump Bump Down the wall in the hall Thing Two and Thing One They ran up They ran down On the string of one kit We saw Mothers new gown Her gown with the dots That are pink white and red Then we saw one kite bump On the head of her bed Then those Things ran about With big bumps jumps and kicks And with hops and big thumps And all kinds of bad tricks And I said I do NOT like the way that they play If Mother could see this Oh what would she say Then our fish said Look Look And our fish shook with fear Your mother is on her way home Do you hear Oh what will she do to us What will she say Oh she will not like it To find us this way So DO something Fast said the fish Do you hear I saw her Your mother Your mother is near So as fast as you can Think of something to do You will have to get rid of Thing One and Thing Two So as fast as I could I went after my net And I said With my net I can get them I bet I bet with my net I can get those Things yet Then I let down my net It came down the a PLOP And I had them At last Those two Things had to stop Then I said to the cat Now you do as I say You pack up those Things And you take them away Oh dear said the cat You did not like our game Oh dear What shame What a shame What a shame Then he shut up the Things In the box with the hook And the cat went away With a sad kind of look That is good said the fishHe has gone away Yes But your mother will come She will find this big mess And this mess is so big And so deep and so tall we can not pick it up There is no way at all And THEN Who was back in the house Why the cat Have no fear of this mess Said the Cat in the Hat I always pick up all my playthings And so I will show you another good trick that I know Then we saw him pick up all the things that were down He picked up the cake And the rake And the gown And the milk and the strings And the books and the dish And the fan and the cup And the ship and the fish And he put them away Then he said That is that And then he was gone with the tip of his hat Then our mother came in And said said to us two Did you have any fun Tell me What did you do And Sally and I did not know What to say Should we tell her The things that went on there that day She we tell her about it Now what SHOULD we do Well what would YOU do If you mother asked YOU'\n",
      "counter = collections.Counter()\n",
      "for w in text.split():\n",
      "    counter[w] += 1\n",
      "normalize = lambda x: int(x / (max(counter.values()) - min(counter.values())) * 90 + 10)\n",
      "word_list = {k: normalize(v) for k, v in counter.items()}"
     ],
     "language": "python",
     "metadata": {},
     "outputs": [],
     "prompt_number": 13
    },
    {
     "cell_type": "markdown",
     "metadata": {},
     "source": [
      "Load the necessary Javascript libraries."
     ]
    },
    {
     "cell_type": "code",
     "collapsed": false,
     "input": [
      "vincent.initialize_notebook()"
     ],
     "language": "python",
     "metadata": {},
     "outputs": [
      {
       "html": [
        "<script>\n",
        "    if (window['d3'] === undefined) {\n",
        "        require.config({ paths: {d3: \"http://d3js.org/d3.v3.min\"} });\n",
        "        require([\"d3\"], function(d3) {\n",
        "            window.d3 = d3;\n",
        "            $.getScript(\"http://d3js.org/d3.geo.projection.v0.min.js\", function() {$.getScript(\"http://wrobstory.github.io/d3-cloud/d3.layout.cloud.js\", function() {$.getScript(\"http://d3js.org/topojson.v1.min.js\", function() {$.getScript(\"http://trifacta.github.com/vega/vega.js\", function() {$([IPython.events]).trigger(\"vega_loaded.vincent\");})})})});\n",
        "        });\n",
        "    };\n",
        "    \n",
        "    if (window['topojson'] === undefined) {\n",
        "        require.config({ paths: {topojson: \"http://d3js.org/topojson.v1.min\"} });\n",
        "        require([\"topojson\"], function(topojson) {\n",
        "            window.topojson = topojson;\n",
        "            \n",
        "        });\n",
        "    };\n",
        "    </script>"
       ],
       "metadata": {},
       "output_type": "display_data",
       "text": [
        "<IPython.core.display.HTML at 0x1098a3f90>"
       ]
      }
     ],
     "prompt_number": 14
    },
    {
     "cell_type": "markdown",
     "metadata": {},
     "source": [
      "In the notebook `Chart`s can be displayed by just having the chart variable as the last statement in a cell which will call `chart._repr_html()` internally. You can also use `chart.display()` or `from IPython.display import display; display(chart)`."
     ]
    },
    {
     "cell_type": "code",
     "collapsed": false,
     "input": [
      "bar = vincent.Bar(multi_iter1['y1'])\n",
      "bar.axis_titles(x='Index', y='Value')\n",
      "bar.display()"
     ],
     "language": "python",
     "metadata": {},
     "outputs": [
      {
       "html": [
        "<div id=\"visf14e2f58815b4e99a6c894b454261856\"></div>\n",
        "<script>\n",
        "   ( function() {\n",
        "     var _do_plot = function() {\n",
        "       if ( (typeof vg == 'undefined') && (typeof IPython != 'undefined')) {\n",
        "         $([IPython.events]).on(\"vega_loaded.vincent\", _do_plot);\n",
        "         return;\n",
        "       }\n",
        "       vg.parse.spec({\"axes\": [{\"scale\": \"x\", \"title\": \"Index\", \"type\": \"x\"}, {\"scale\": \"y\", \"title\": \"Value\", \"type\": \"y\"}], \"data\": [{\"name\": \"table\", \"values\": [{\"col\": \"data\", \"idx\": 0, \"val\": 89}, {\"col\": \"data\", \"idx\": 1, \"val\": 13}, {\"col\": \"data\", \"idx\": 2, \"val\": 74}, {\"col\": \"data\", \"idx\": 3, \"val\": 72}, {\"col\": \"data\", \"idx\": 4, \"val\": 39}, {\"col\": \"data\", \"idx\": 5, \"val\": 33}, {\"col\": \"data\", \"idx\": 6, \"val\": 23}, {\"col\": \"data\", \"idx\": 7, \"val\": 94}, {\"col\": \"data\", \"idx\": 8, \"val\": 89}, {\"col\": \"data\", \"idx\": 9, \"val\": 12}, {\"col\": \"data\", \"idx\": 10, \"val\": 65}, {\"col\": \"data\", \"idx\": 11, \"val\": 57}, {\"col\": \"data\", \"idx\": 12, \"val\": 87}, {\"col\": \"data\", \"idx\": 13, \"val\": 78}, {\"col\": \"data\", \"idx\": 14, \"val\": 66}, {\"col\": \"data\", \"idx\": 15, \"val\": 82}, {\"col\": \"data\", \"idx\": 16, \"val\": 28}, {\"col\": \"data\", \"idx\": 17, \"val\": 48}, {\"col\": \"data\", \"idx\": 18, \"val\": 80}, {\"col\": \"data\", \"idx\": 19, \"val\": 88}, {\"col\": \"data\", \"idx\": 20, \"val\": 82}]}, {\"name\": \"stats\", \"source\": \"table\", \"transform\": [{\"keys\": [\"data.idx\"], \"type\": \"facet\"}, {\"type\": \"stats\", \"value\": \"data.val\"}]}], \"height\": 500, \"legends\": [], \"marks\": [{\"from\": {\"data\": \"table\", \"transform\": [{\"keys\": [\"data.col\"], \"type\": \"facet\"}, {\"height\": \"data.val\", \"point\": \"data.idx\", \"type\": \"stack\"}]}, \"marks\": [{\"properties\": {\"enter\": {\"fill\": {\"field\": \"data.col\", \"scale\": \"color\"}, \"width\": {\"band\": true, \"offset\": -1, \"scale\": \"x\"}, \"x\": {\"field\": \"data.idx\", \"scale\": \"x\"}, \"y\": {\"field\": \"y\", \"scale\": \"y\"}, \"y2\": {\"field\": \"y2\", \"scale\": \"y\"}}}, \"type\": \"rect\"}], \"type\": \"group\"}], \"padding\": \"auto\", \"scales\": [{\"domain\": {\"data\": \"table\", \"field\": \"data.idx\"}, \"name\": \"x\", \"range\": \"width\", \"type\": \"ordinal\", \"zero\": false}, {\"domain\": {\"data\": \"stats\", \"field\": \"sum\"}, \"name\": \"y\", \"nice\": true, \"range\": \"height\"}, {\"domain\": {\"data\": \"table\", \"field\": \"data.col\"}, \"name\": \"color\", \"range\": \"category20\", \"type\": \"ordinal\"}], \"width\": 960}, function(chart) {\n",
        "         chart({el: \"#visf14e2f58815b4e99a6c894b454261856\"}).update();\n",
        "       });\n",
        "     };\n",
        "     _do_plot();\n",
        "   })();\n",
        "</script>\n",
        "<style>.vega canvas {width: 100%;}</style>\n",
        "        "
       ],
       "metadata": {},
       "output_type": "display_data",
       "text": [
        "<IPython.core.display.HTML at 0x1098ad490>"
       ]
      }
     ],
     "prompt_number": 15
    },
    {
     "cell_type": "code",
     "collapsed": false,
     "input": [
      "line = vincent.Line(multi_iter1, iter_idx='index')\n",
      "line.axis_titles(x='Index', y='Value')\n",
      "line.legend(title='Categories')\n",
      "line"
     ],
     "language": "python",
     "metadata": {},
     "outputs": [
      {
       "html": [
        "<div id=\"vis5e07294d739f480a971b4d2d52508639\"></div>\n",
        "<script>\n",
        "   ( function() {\n",
        "     var _do_plot = function() {\n",
        "       if ( (typeof vg == 'undefined') && (typeof IPython != 'undefined')) {\n",
        "         $([IPython.events]).on(\"vega_loaded.vincent\", _do_plot);\n",
        "         return;\n",
        "       }\n",
        "       vg.parse.spec({\"axes\": [{\"scale\": \"x\", \"title\": \"Index\", \"type\": \"x\"}, {\"scale\": \"y\", \"title\": \"Value\", \"type\": \"y\"}], \"data\": [{\"name\": \"table\", \"values\": [{\"col\": \"y1\", \"idx\": 0, \"val\": 89}, {\"col\": \"y1\", \"idx\": 1, \"val\": 13}, {\"col\": \"y1\", \"idx\": 2, \"val\": 74}, {\"col\": \"y1\", \"idx\": 3, \"val\": 72}, {\"col\": \"y1\", \"idx\": 4, \"val\": 39}, {\"col\": \"y1\", \"idx\": 5, \"val\": 33}, {\"col\": \"y1\", \"idx\": 6, \"val\": 23}, {\"col\": \"y1\", \"idx\": 7, \"val\": 94}, {\"col\": \"y1\", \"idx\": 8, \"val\": 89}, {\"col\": \"y1\", \"idx\": 9, \"val\": 12}, {\"col\": \"y1\", \"idx\": 10, \"val\": 65}, {\"col\": \"y1\", \"idx\": 11, \"val\": 57}, {\"col\": \"y1\", \"idx\": 12, \"val\": 87}, {\"col\": \"y1\", \"idx\": 13, \"val\": 78}, {\"col\": \"y1\", \"idx\": 14, \"val\": 66}, {\"col\": \"y1\", \"idx\": 15, \"val\": 82}, {\"col\": \"y1\", \"idx\": 16, \"val\": 28}, {\"col\": \"y1\", \"idx\": 17, \"val\": 48}, {\"col\": \"y1\", \"idx\": 18, \"val\": 80}, {\"col\": \"y1\", \"idx\": 19, \"val\": 88}, {\"col\": \"y1\", \"idx\": 20, \"val\": 82}, {\"col\": \"y2\", \"idx\": 0, \"val\": 75}, {\"col\": \"y2\", \"idx\": 1, \"val\": 71}, {\"col\": \"y2\", \"idx\": 2, \"val\": 82}, {\"col\": \"y2\", \"idx\": 3, \"val\": 94}, {\"col\": \"y2\", \"idx\": 4, \"val\": 33}, {\"col\": \"y2\", \"idx\": 5, \"val\": 10}, {\"col\": \"y2\", \"idx\": 6, \"val\": 98}, {\"col\": \"y2\", \"idx\": 7, \"val\": 18}, {\"col\": \"y2\", \"idx\": 8, \"val\": 31}, {\"col\": \"y2\", \"idx\": 9, \"val\": 44}, {\"col\": \"y2\", \"idx\": 10, \"val\": 54}, {\"col\": \"y2\", \"idx\": 11, \"val\": 30}, {\"col\": \"y2\", \"idx\": 12, \"val\": 47}, {\"col\": \"y2\", \"idx\": 13, \"val\": 64}, {\"col\": \"y2\", \"idx\": 14, \"val\": 86}, {\"col\": \"y2\", \"idx\": 15, \"val\": 63}, {\"col\": \"y2\", \"idx\": 16, \"val\": 97}, {\"col\": \"y2\", \"idx\": 17, \"val\": 15}, {\"col\": \"y2\", \"idx\": 18, \"val\": 32}, {\"col\": \"y2\", \"idx\": 19, \"val\": 60}, {\"col\": \"y2\", \"idx\": 20, \"val\": 16}, {\"col\": \"y3\", \"idx\": 0, \"val\": 88}, {\"col\": \"y3\", \"idx\": 1, \"val\": 53}, {\"col\": \"y3\", \"idx\": 2, \"val\": 54}, {\"col\": \"y3\", \"idx\": 3, \"val\": 49}, {\"col\": \"y3\", \"idx\": 4, \"val\": 56}, {\"col\": \"y3\", \"idx\": 5, \"val\": 53}, {\"col\": \"y3\", \"idx\": 6, \"val\": 31}, {\"col\": \"y3\", \"idx\": 7, \"val\": 86}, {\"col\": \"y3\", \"idx\": 8, \"val\": 89}, {\"col\": \"y3\", \"idx\": 9, \"val\": 21}, {\"col\": \"y3\", \"idx\": 10, \"val\": 57}, {\"col\": \"y3\", \"idx\": 11, \"val\": 10}, {\"col\": \"y3\", \"idx\": 12, \"val\": 47}, {\"col\": \"y3\", \"idx\": 13, \"val\": 17}, {\"col\": \"y3\", \"idx\": 14, \"val\": 45}, {\"col\": \"y3\", \"idx\": 15, \"val\": 18}, {\"col\": \"y3\", \"idx\": 16, \"val\": 42}, {\"col\": \"y3\", \"idx\": 17, \"val\": 55}, {\"col\": \"y3\", \"idx\": 18, \"val\": 81}, {\"col\": \"y3\", \"idx\": 19, \"val\": 98}, {\"col\": \"y3\", \"idx\": 20, \"val\": 95}, {\"col\": \"y4\", \"idx\": 0, \"val\": 33}, {\"col\": \"y4\", \"idx\": 1, \"val\": 11}, {\"col\": \"y4\", \"idx\": 2, \"val\": 46}, {\"col\": \"y4\", \"idx\": 3, \"val\": 64}, {\"col\": \"y4\", \"idx\": 4, \"val\": 91}, {\"col\": \"y4\", \"idx\": 5, \"val\": 49}, {\"col\": \"y4\", \"idx\": 6, \"val\": 95}, {\"col\": \"y4\", \"idx\": 7, \"val\": 89}, {\"col\": \"y4\", \"idx\": 8, \"val\": 56}, {\"col\": \"y4\", \"idx\": 9, \"val\": 81}, {\"col\": \"y4\", \"idx\": 10, \"val\": 55}, {\"col\": \"y4\", \"idx\": 11, \"val\": 92}, {\"col\": \"y4\", \"idx\": 12, \"val\": 66}, {\"col\": \"y4\", \"idx\": 13, \"val\": 22}, {\"col\": \"y4\", \"idx\": 14, \"val\": 73}, {\"col\": \"y4\", \"idx\": 15, \"val\": 23}, {\"col\": \"y4\", \"idx\": 16, \"val\": 51}, {\"col\": \"y4\", \"idx\": 17, \"val\": 89}, {\"col\": \"y4\", \"idx\": 18, \"val\": 17}, {\"col\": \"y4\", \"idx\": 19, \"val\": 26}, {\"col\": \"y4\", \"idx\": 20, \"val\": 100}]}], \"height\": 500, \"legends\": [{\"fill\": \"color\", \"offset\": 0, \"title\": \"Categories\"}], \"marks\": [{\"from\": {\"data\": \"table\", \"transform\": [{\"keys\": [\"data.col\"], \"type\": \"facet\"}]}, \"marks\": [{\"properties\": {\"enter\": {\"stroke\": {\"field\": \"data.col\", \"scale\": \"color\"}, \"strokeWidth\": {\"value\": 2}, \"x\": {\"field\": \"data.idx\", \"scale\": \"x\"}, \"y\": {\"field\": \"data.val\", \"scale\": \"y\"}}}, \"type\": \"line\"}], \"type\": \"group\"}], \"padding\": \"auto\", \"scales\": [{\"domain\": {\"data\": \"table\", \"field\": \"data.idx\"}, \"name\": \"x\", \"range\": \"width\", \"type\": \"linear\"}, {\"domain\": {\"data\": \"table\", \"field\": \"data.val\"}, \"name\": \"y\", \"nice\": true, \"range\": \"height\"}, {\"domain\": {\"data\": \"table\", \"field\": \"data.col\"}, \"name\": \"color\", \"range\": \"category20\", \"type\": \"ordinal\"}], \"width\": 960}, function(chart) {\n",
        "         chart({el: \"#vis5e07294d739f480a971b4d2d52508639\"}).update();\n",
        "       });\n",
        "     };\n",
        "     _do_plot();\n",
        "   })();\n",
        "</script>\n",
        "<style>.vega canvas {width: 100%;}</style>\n",
        "        "
       ],
       "metadata": {},
       "output_type": "pyout",
       "prompt_number": 16,
       "text": [
        "<vincent.charts.Line at 0x1098ada50>"
       ]
      }
     ],
     "prompt_number": 16
    },
    {
     "cell_type": "code",
     "collapsed": false,
     "input": [
      "line = vincent.Line(price[['GOOG', 'AAPL']])\n",
      "line.axis_titles(x='Date', y='Price')\n",
      "line.legend(title='GOOG vs AAPL')\n",
      "line"
     ],
     "language": "python",
     "metadata": {},
     "outputs": [
      {
       "ename": "NameError",
       "evalue": "name 'price' is not defined",
       "output_type": "pyerr",
       "traceback": [
        "\u001b[0;31m---------------------------------------------------------------------------\u001b[0m\n\u001b[0;31mNameError\u001b[0m                                 Traceback (most recent call last)",
        "\u001b[0;32m<ipython-input-17-edc0294f7849>\u001b[0m in \u001b[0;36m<module>\u001b[0;34m()\u001b[0m\n\u001b[0;32m----> 1\u001b[0;31m \u001b[0mline\u001b[0m \u001b[0;34m=\u001b[0m \u001b[0mvincent\u001b[0m\u001b[0;34m.\u001b[0m\u001b[0mLine\u001b[0m\u001b[0;34m(\u001b[0m\u001b[0mprice\u001b[0m\u001b[0;34m[\u001b[0m\u001b[0;34m[\u001b[0m\u001b[0;34m'GOOG'\u001b[0m\u001b[0;34m,\u001b[0m \u001b[0;34m'AAPL'\u001b[0m\u001b[0;34m]\u001b[0m\u001b[0;34m]\u001b[0m\u001b[0;34m)\u001b[0m\u001b[0;34m\u001b[0m\u001b[0m\n\u001b[0m\u001b[1;32m      2\u001b[0m \u001b[0mline\u001b[0m\u001b[0;34m.\u001b[0m\u001b[0maxis_titles\u001b[0m\u001b[0;34m(\u001b[0m\u001b[0mx\u001b[0m\u001b[0;34m=\u001b[0m\u001b[0;34m'Date'\u001b[0m\u001b[0;34m,\u001b[0m \u001b[0my\u001b[0m\u001b[0;34m=\u001b[0m\u001b[0;34m'Price'\u001b[0m\u001b[0;34m)\u001b[0m\u001b[0;34m\u001b[0m\u001b[0m\n\u001b[1;32m      3\u001b[0m \u001b[0mline\u001b[0m\u001b[0;34m.\u001b[0m\u001b[0mlegend\u001b[0m\u001b[0;34m(\u001b[0m\u001b[0mtitle\u001b[0m\u001b[0;34m=\u001b[0m\u001b[0;34m'GOOG vs AAPL'\u001b[0m\u001b[0;34m)\u001b[0m\u001b[0;34m\u001b[0m\u001b[0m\n\u001b[1;32m      4\u001b[0m \u001b[0mline\u001b[0m\u001b[0;34m\u001b[0m\u001b[0m\n",
        "\u001b[0;31mNameError\u001b[0m: name 'price' is not defined"
       ]
      }
     ],
     "prompt_number": 17
    },
    {
     "cell_type": "code",
     "collapsed": false,
     "input": [
      "scatter = vincent.Scatter(df_1)\n",
      "scatter.axis_titles(x='Index', y='Data Value')\n",
      "scatter.legend(title='Categories')\n",
      "scatter.colors(brew='Set3')\n",
      "scatter"
     ],
     "language": "python",
     "metadata": {},
     "outputs": [
      {
       "html": [
        "<div id=\"vis762b575e7db94da0b2f704dd23b0a3ea\"></div>\n",
        "<script>\n",
        "   ( function() {\n",
        "     var _do_plot = function() {\n",
        "       if ( (typeof vg == 'undefined') && (typeof IPython != 'undefined')) {\n",
        "         $([IPython.events]).on(\"vega_loaded.vincent\", _do_plot);\n",
        "         return;\n",
        "       }\n",
        "       vg.parse.spec({\"axes\": [{\"scale\": \"x\", \"title\": \"Index\", \"type\": \"x\"}, {\"scale\": \"y\", \"title\": \"Data Value\", \"type\": \"y\"}], \"data\": [{\"name\": \"table\", \"values\": [{\"col\": \"y0\", \"idx\": 1, \"val\": 43}, {\"col\": \"y1\", \"idx\": 1, \"val\": 63}, {\"col\": \"y2\", \"idx\": 1, \"val\": 72}, {\"col\": \"y3\", \"idx\": 1, \"val\": 15}, {\"col\": \"y4\", \"idx\": 1, \"val\": 46}, {\"col\": \"y5\", \"idx\": 1, \"val\": 68}, {\"col\": \"y6\", \"idx\": 1, \"val\": 65}, {\"col\": \"y7\", \"idx\": 1, \"val\": 48}, {\"col\": \"y8\", \"idx\": 1, \"val\": 81}, {\"col\": \"y9\", \"idx\": 1, \"val\": 59}, {\"col\": \"y0\", \"idx\": 2, \"val\": 56}, {\"col\": \"y1\", \"idx\": 2, \"val\": 68}, {\"col\": \"y2\", \"idx\": 2, \"val\": 21}, {\"col\": \"y3\", \"idx\": 2, \"val\": 51}, {\"col\": \"y4\", \"idx\": 2, \"val\": 75}, {\"col\": \"y5\", \"idx\": 2, \"val\": 56}, {\"col\": \"y6\", \"idx\": 2, \"val\": 59}, {\"col\": \"y7\", \"idx\": 2, \"val\": 38}, {\"col\": \"y8\", \"idx\": 2, \"val\": 10}, {\"col\": \"y9\", \"idx\": 2, \"val\": 58}, {\"col\": \"y0\", \"idx\": 3, \"val\": 49}, {\"col\": \"y1\", \"idx\": 3, \"val\": 37}, {\"col\": \"y2\", \"idx\": 3, \"val\": 45}, {\"col\": \"y3\", \"idx\": 3, \"val\": 42}, {\"col\": \"y4\", \"idx\": 3, \"val\": 82}, {\"col\": \"y5\", \"idx\": 3, \"val\": 91}, {\"col\": \"y6\", \"idx\": 3, \"val\": 77}, {\"col\": \"y7\", \"idx\": 3, \"val\": 23}, {\"col\": \"y8\", \"idx\": 3, \"val\": 26}, {\"col\": \"y9\", \"idx\": 3, \"val\": 22}, {\"col\": \"y0\", \"idx\": 4, \"val\": 82}, {\"col\": \"y1\", \"idx\": 4, \"val\": 56}, {\"col\": \"y2\", \"idx\": 4, \"val\": 58}, {\"col\": \"y3\", \"idx\": 4, \"val\": 44}, {\"col\": \"y4\", \"idx\": 4, \"val\": 26}, {\"col\": \"y5\", \"idx\": 4, \"val\": 19}, {\"col\": \"y6\", \"idx\": 4, \"val\": 12}, {\"col\": \"y7\", \"idx\": 4, \"val\": 80}, {\"col\": \"y8\", \"idx\": 4, \"val\": 44}, {\"col\": \"y9\", \"idx\": 4, \"val\": 46}, {\"col\": \"y0\", \"idx\": 5, \"val\": 48}, {\"col\": \"y1\", \"idx\": 5, \"val\": 94}, {\"col\": \"y2\", \"idx\": 5, \"val\": 20}, {\"col\": \"y3\", \"idx\": 5, \"val\": 16}, {\"col\": \"y4\", \"idx\": 5, \"val\": 87}, {\"col\": \"y5\", \"idx\": 5, \"val\": 75}, {\"col\": \"y6\", \"idx\": 5, \"val\": 33}, {\"col\": \"y7\", \"idx\": 5, \"val\": 87}, {\"col\": \"y8\", \"idx\": 5, \"val\": 37}, {\"col\": \"y9\", \"idx\": 5, \"val\": 34}, {\"col\": \"y0\", \"idx\": 6, \"val\": 52}, {\"col\": \"y1\", \"idx\": 6, \"val\": 79}, {\"col\": \"y2\", \"idx\": 6, \"val\": 30}, {\"col\": \"y3\", \"idx\": 6, \"val\": 61}, {\"col\": \"y4\", \"idx\": 6, \"val\": 22}, {\"col\": \"y5\", \"idx\": 6, \"val\": 78}, {\"col\": \"y6\", \"idx\": 6, \"val\": 48}, {\"col\": \"y7\", \"idx\": 6, \"val\": 79}, {\"col\": \"y8\", \"idx\": 6, \"val\": 93}, {\"col\": \"y9\", \"idx\": 6, \"val\": 19}, {\"col\": \"y0\", \"idx\": 7, \"val\": 30}, {\"col\": \"y1\", \"idx\": 7, \"val\": 65}, {\"col\": \"y2\", \"idx\": 7, \"val\": 73}, {\"col\": \"y3\", \"idx\": 7, \"val\": 11}, {\"col\": \"y4\", \"idx\": 7, \"val\": 78}, {\"col\": \"y5\", \"idx\": 7, \"val\": 63}, {\"col\": \"y6\", \"idx\": 7, \"val\": 97}, {\"col\": \"y7\", \"idx\": 7, \"val\": 81}, {\"col\": \"y8\", \"idx\": 7, \"val\": 69}, {\"col\": \"y9\", \"idx\": 7, \"val\": 23}, {\"col\": \"y0\", \"idx\": 8, \"val\": 14}, {\"col\": \"y1\", \"idx\": 8, \"val\": 43}, {\"col\": \"y2\", \"idx\": 8, \"val\": 92}, {\"col\": \"y3\", \"idx\": 8, \"val\": 28}, {\"col\": \"y4\", \"idx\": 8, \"val\": 54}, {\"col\": \"y5\", \"idx\": 8, \"val\": 93}, {\"col\": \"y6\", \"idx\": 8, \"val\": 89}, {\"col\": \"y7\", \"idx\": 8, \"val\": 96}, {\"col\": \"y8\", \"idx\": 8, \"val\": 76}, {\"col\": \"y9\", \"idx\": 8, \"val\": 70}, {\"col\": \"y0\", \"idx\": 9, \"val\": 34}, {\"col\": \"y1\", \"idx\": 9, \"val\": 57}, {\"col\": \"y2\", \"idx\": 9, \"val\": 42}, {\"col\": \"y3\", \"idx\": 9, \"val\": 57}, {\"col\": \"y4\", \"idx\": 9, \"val\": 30}, {\"col\": \"y5\", \"idx\": 9, \"val\": 79}, {\"col\": \"y6\", \"idx\": 9, \"val\": 72}, {\"col\": \"y7\", \"idx\": 9, \"val\": 74}, {\"col\": \"y8\", \"idx\": 9, \"val\": 88}, {\"col\": \"y9\", \"idx\": 9, \"val\": 99}, {\"col\": \"y0\", \"idx\": 10, \"val\": 26}, {\"col\": \"y1\", \"idx\": 10, \"val\": 60}, {\"col\": \"y2\", \"idx\": 10, \"val\": 30}, {\"col\": \"y3\", \"idx\": 10, \"val\": 44}, {\"col\": \"y4\", \"idx\": 10, \"val\": 74}, {\"col\": \"y5\", \"idx\": 10, \"val\": 32}, {\"col\": \"y6\", \"idx\": 10, \"val\": 88}, {\"col\": \"y7\", \"idx\": 10, \"val\": 81}, {\"col\": \"y8\", \"idx\": 10, \"val\": 41}, {\"col\": \"y9\", \"idx\": 10, \"val\": 79}, {\"col\": \"y0\", \"idx\": 11, \"val\": 89}, {\"col\": \"y1\", \"idx\": 11, \"val\": 56}, {\"col\": \"y2\", \"idx\": 11, \"val\": 36}, {\"col\": \"y3\", \"idx\": 11, \"val\": 28}, {\"col\": \"y4\", \"idx\": 11, \"val\": 14}, {\"col\": \"y5\", \"idx\": 11, \"val\": 65}, {\"col\": \"y6\", \"idx\": 11, \"val\": 42}, {\"col\": \"y7\", \"idx\": 11, \"val\": 67}, {\"col\": \"y8\", \"idx\": 11, \"val\": 61}, {\"col\": \"y9\", \"idx\": 11, \"val\": 37}, {\"col\": \"y0\", \"idx\": 12, \"val\": 49}, {\"col\": \"y1\", \"idx\": 12, \"val\": 48}, {\"col\": \"y2\", \"idx\": 12, \"val\": 81}, {\"col\": \"y3\", \"idx\": 12, \"val\": 76}, {\"col\": \"y4\", \"idx\": 12, \"val\": 89}, {\"col\": \"y5\", \"idx\": 12, \"val\": 68}, {\"col\": \"y6\", \"idx\": 12, \"val\": 95}, {\"col\": \"y7\", \"idx\": 12, \"val\": 83}, {\"col\": \"y8\", \"idx\": 12, \"val\": 60}, {\"col\": \"y9\", \"idx\": 12, \"val\": 70}, {\"col\": \"y0\", \"idx\": 13, \"val\": 86}, {\"col\": \"y1\", \"idx\": 13, \"val\": 17}, {\"col\": \"y2\", \"idx\": 13, \"val\": 68}, {\"col\": \"y3\", \"idx\": 13, \"val\": 52}, {\"col\": \"y4\", \"idx\": 13, \"val\": 64}, {\"col\": \"y5\", \"idx\": 13, \"val\": 96}, {\"col\": \"y6\", \"idx\": 13, \"val\": 90}, {\"col\": \"y7\", \"idx\": 13, \"val\": 32}, {\"col\": \"y8\", \"idx\": 13, \"val\": 45}, {\"col\": \"y9\", \"idx\": 13, \"val\": 34}, {\"col\": \"y0\", \"idx\": 14, \"val\": 44}, {\"col\": \"y1\", \"idx\": 14, \"val\": 90}, {\"col\": \"y2\", \"idx\": 14, \"val\": 79}, {\"col\": \"y3\", \"idx\": 14, \"val\": 23}, {\"col\": \"y4\", \"idx\": 14, \"val\": 82}, {\"col\": \"y5\", \"idx\": 14, \"val\": 56}, {\"col\": \"y6\", \"idx\": 14, \"val\": 84}, {\"col\": \"y7\", \"idx\": 14, \"val\": 84}, {\"col\": \"y8\", \"idx\": 14, \"val\": 58}, {\"col\": \"y9\", \"idx\": 14, \"val\": 79}, {\"col\": \"y0\", \"idx\": 15, \"val\": 83}, {\"col\": \"y1\", \"idx\": 15, \"val\": 10}, {\"col\": \"y2\", \"idx\": 15, \"val\": 90}, {\"col\": \"y3\", \"idx\": 15, \"val\": 42}, {\"col\": \"y4\", \"idx\": 15, \"val\": 96}, {\"col\": \"y5\", \"idx\": 15, \"val\": 59}, {\"col\": \"y6\", \"idx\": 15, \"val\": 53}, {\"col\": \"y7\", \"idx\": 15, \"val\": 65}, {\"col\": \"y8\", \"idx\": 15, \"val\": 44}, {\"col\": \"y9\", \"idx\": 15, \"val\": 81}, {\"col\": \"y0\", \"idx\": 16, \"val\": 52}, {\"col\": \"y1\", \"idx\": 16, \"val\": 20}, {\"col\": \"y2\", \"idx\": 16, \"val\": 64}, {\"col\": \"y3\", \"idx\": 16, \"val\": 80}, {\"col\": \"y4\", \"idx\": 16, \"val\": 17}, {\"col\": \"y5\", \"idx\": 16, \"val\": 53}, {\"col\": \"y6\", \"idx\": 16, \"val\": 66}, {\"col\": \"y7\", \"idx\": 16, \"val\": 100}, {\"col\": \"y8\", \"idx\": 16, \"val\": 50}, {\"col\": \"y9\", \"idx\": 16, \"val\": 23}, {\"col\": \"y0\", \"idx\": 17, \"val\": 82}, {\"col\": \"y1\", \"idx\": 17, \"val\": 88}, {\"col\": \"y2\", \"idx\": 17, \"val\": 18}, {\"col\": \"y3\", \"idx\": 17, \"val\": 90}, {\"col\": \"y4\", \"idx\": 17, \"val\": 50}, {\"col\": \"y5\", \"idx\": 17, \"val\": 34}, {\"col\": \"y6\", \"idx\": 17, \"val\": 31}, {\"col\": \"y7\", \"idx\": 17, \"val\": 99}, {\"col\": \"y8\", \"idx\": 17, \"val\": 11}, {\"col\": \"y9\", \"idx\": 17, \"val\": 69}, {\"col\": \"y0\", \"idx\": 18, \"val\": 79}, {\"col\": \"y1\", \"idx\": 18, \"val\": 34}, {\"col\": \"y2\", \"idx\": 18, \"val\": 71}, {\"col\": \"y3\", \"idx\": 18, \"val\": 98}, {\"col\": \"y4\", \"idx\": 18, \"val\": 78}, {\"col\": \"y5\", \"idx\": 18, \"val\": 30}, {\"col\": \"y6\", \"idx\": 18, \"val\": 83}, {\"col\": \"y7\", \"idx\": 18, \"val\": 44}, {\"col\": \"y8\", \"idx\": 18, \"val\": 69}, {\"col\": \"y9\", \"idx\": 18, \"val\": 38}, {\"col\": \"y0\", \"idx\": 19, \"val\": 67}, {\"col\": \"y1\", \"idx\": 19, \"val\": 23}, {\"col\": \"y2\", \"idx\": 19, \"val\": 14}, {\"col\": \"y3\", \"idx\": 19, \"val\": 69}, {\"col\": \"y4\", \"idx\": 19, \"val\": 73}, {\"col\": \"y5\", \"idx\": 19, \"val\": 18}, {\"col\": \"y6\", \"idx\": 19, \"val\": 42}, {\"col\": \"y7\", \"idx\": 19, \"val\": 48}, {\"col\": \"y8\", \"idx\": 19, \"val\": 68}, {\"col\": \"y9\", \"idx\": 19, \"val\": 49}, {\"col\": \"y0\", \"idx\": 20, \"val\": 23}, {\"col\": \"y1\", \"idx\": 20, \"val\": 70}, {\"col\": \"y2\", \"idx\": 20, \"val\": 22}, {\"col\": \"y3\", \"idx\": 20, \"val\": 22}, {\"col\": \"y4\", \"idx\": 20, \"val\": 91}, {\"col\": \"y5\", \"idx\": 20, \"val\": 89}, {\"col\": \"y6\", \"idx\": 20, \"val\": 46}, {\"col\": \"y7\", \"idx\": 20, \"val\": 27}, {\"col\": \"y8\", \"idx\": 20, \"val\": 23}, {\"col\": \"y9\", \"idx\": 20, \"val\": 88}]}], \"height\": 500, \"legends\": [{\"fill\": \"color\", \"offset\": 0, \"title\": \"Categories\"}], \"marks\": [{\"from\": {\"data\": \"table\", \"transform\": [{\"keys\": [\"data.col\"], \"type\": \"facet\"}]}, \"marks\": [{\"properties\": {\"enter\": {\"fill\": {\"field\": \"data.col\", \"scale\": \"color\"}, \"size\": {\"value\": 100}, \"x\": {\"field\": \"data.idx\", \"scale\": \"x\"}, \"y\": {\"field\": \"data.val\", \"scale\": \"y\"}}}, \"type\": \"symbol\"}], \"type\": \"group\"}], \"padding\": \"auto\", \"scales\": [{\"domain\": {\"data\": \"table\", \"field\": \"data.idx\"}, \"name\": \"x\", \"range\": \"width\", \"type\": \"linear\"}, {\"domain\": {\"data\": \"table\", \"field\": \"data.val\"}, \"name\": \"y\", \"nice\": true, \"range\": \"height\"}, {\"domain\": {\"data\": \"table\", \"field\": \"data.col\"}, \"name\": \"color\", \"range\": [\"#8dd3c7\", \"#ffffb3\", \"#bebada\", \"#fb8072\", \"#80b1d3\", \"#fdb462\", \"#b3de69\", \"#fccde5\", \"#d9d9d9\", \"#bc80bd\", \"#ccebc5\", \"#ffed6f\"], \"type\": \"ordinal\"}], \"width\": 960}, function(chart) {\n",
        "         chart({el: \"#vis762b575e7db94da0b2f704dd23b0a3ea\"}).update();\n",
        "       });\n",
        "     };\n",
        "     _do_plot();\n",
        "   })();\n",
        "</script>\n",
        "<style>.vega canvas {width: 100%;}</style>\n",
        "        "
       ],
       "metadata": {},
       "output_type": "pyout",
       "prompt_number": 18,
       "text": [
        "<vincent.charts.Scatter at 0x1085fa510>"
       ]
      }
     ],
     "prompt_number": 18
    },
    {
     "cell_type": "code",
     "collapsed": false,
     "input": [
      "stacked = vincent.StackedArea(df_1)\n",
      "stacked.axis_titles(x='Index', y='Value')\n",
      "stacked.legend(title='Categories')\n",
      "stacked.colors(brew='Spectral')\n",
      "stacked"
     ],
     "language": "python",
     "metadata": {},
     "outputs": [
      {
       "html": [
        "<div id=\"vis217de54dfea64957b94018572d0fe89b\"></div>\n",
        "<script>\n",
        "   ( function() {\n",
        "     var _do_plot = function() {\n",
        "       if ( (typeof vg == 'undefined') && (typeof IPython != 'undefined')) {\n",
        "         $([IPython.events]).on(\"vega_loaded.vincent\", _do_plot);\n",
        "         return;\n",
        "       }\n",
        "       vg.parse.spec({\"axes\": [{\"scale\": \"x\", \"title\": \"Index\", \"type\": \"x\"}, {\"scale\": \"y\", \"title\": \"Value\", \"type\": \"y\"}], \"data\": [{\"name\": \"table\", \"values\": [{\"col\": \"y0\", \"idx\": 1, \"val\": 43}, {\"col\": \"y1\", \"idx\": 1, \"val\": 63}, {\"col\": \"y2\", \"idx\": 1, \"val\": 72}, {\"col\": \"y3\", \"idx\": 1, \"val\": 15}, {\"col\": \"y4\", \"idx\": 1, \"val\": 46}, {\"col\": \"y5\", \"idx\": 1, \"val\": 68}, {\"col\": \"y6\", \"idx\": 1, \"val\": 65}, {\"col\": \"y7\", \"idx\": 1, \"val\": 48}, {\"col\": \"y8\", \"idx\": 1, \"val\": 81}, {\"col\": \"y9\", \"idx\": 1, \"val\": 59}, {\"col\": \"y0\", \"idx\": 2, \"val\": 56}, {\"col\": \"y1\", \"idx\": 2, \"val\": 68}, {\"col\": \"y2\", \"idx\": 2, \"val\": 21}, {\"col\": \"y3\", \"idx\": 2, \"val\": 51}, {\"col\": \"y4\", \"idx\": 2, \"val\": 75}, {\"col\": \"y5\", \"idx\": 2, \"val\": 56}, {\"col\": \"y6\", \"idx\": 2, \"val\": 59}, {\"col\": \"y7\", \"idx\": 2, \"val\": 38}, {\"col\": \"y8\", \"idx\": 2, \"val\": 10}, {\"col\": \"y9\", \"idx\": 2, \"val\": 58}, {\"col\": \"y0\", \"idx\": 3, \"val\": 49}, {\"col\": \"y1\", \"idx\": 3, \"val\": 37}, {\"col\": \"y2\", \"idx\": 3, \"val\": 45}, {\"col\": \"y3\", \"idx\": 3, \"val\": 42}, {\"col\": \"y4\", \"idx\": 3, \"val\": 82}, {\"col\": \"y5\", \"idx\": 3, \"val\": 91}, {\"col\": \"y6\", \"idx\": 3, \"val\": 77}, {\"col\": \"y7\", \"idx\": 3, \"val\": 23}, {\"col\": \"y8\", \"idx\": 3, \"val\": 26}, {\"col\": \"y9\", \"idx\": 3, \"val\": 22}, {\"col\": \"y0\", \"idx\": 4, \"val\": 82}, {\"col\": \"y1\", \"idx\": 4, \"val\": 56}, {\"col\": \"y2\", \"idx\": 4, \"val\": 58}, {\"col\": \"y3\", \"idx\": 4, \"val\": 44}, {\"col\": \"y4\", \"idx\": 4, \"val\": 26}, {\"col\": \"y5\", \"idx\": 4, \"val\": 19}, {\"col\": \"y6\", \"idx\": 4, \"val\": 12}, {\"col\": \"y7\", \"idx\": 4, \"val\": 80}, {\"col\": \"y8\", \"idx\": 4, \"val\": 44}, {\"col\": \"y9\", \"idx\": 4, \"val\": 46}, {\"col\": \"y0\", \"idx\": 5, \"val\": 48}, {\"col\": \"y1\", \"idx\": 5, \"val\": 94}, {\"col\": \"y2\", \"idx\": 5, \"val\": 20}, {\"col\": \"y3\", \"idx\": 5, \"val\": 16}, {\"col\": \"y4\", \"idx\": 5, \"val\": 87}, {\"col\": \"y5\", \"idx\": 5, \"val\": 75}, {\"col\": \"y6\", \"idx\": 5, \"val\": 33}, {\"col\": \"y7\", \"idx\": 5, \"val\": 87}, {\"col\": \"y8\", \"idx\": 5, \"val\": 37}, {\"col\": \"y9\", \"idx\": 5, \"val\": 34}, {\"col\": \"y0\", \"idx\": 6, \"val\": 52}, {\"col\": \"y1\", \"idx\": 6, \"val\": 79}, {\"col\": \"y2\", \"idx\": 6, \"val\": 30}, {\"col\": \"y3\", \"idx\": 6, \"val\": 61}, {\"col\": \"y4\", \"idx\": 6, \"val\": 22}, {\"col\": \"y5\", \"idx\": 6, \"val\": 78}, {\"col\": \"y6\", \"idx\": 6, \"val\": 48}, {\"col\": \"y7\", \"idx\": 6, \"val\": 79}, {\"col\": \"y8\", \"idx\": 6, \"val\": 93}, {\"col\": \"y9\", \"idx\": 6, \"val\": 19}, {\"col\": \"y0\", \"idx\": 7, \"val\": 30}, {\"col\": \"y1\", \"idx\": 7, \"val\": 65}, {\"col\": \"y2\", \"idx\": 7, \"val\": 73}, {\"col\": \"y3\", \"idx\": 7, \"val\": 11}, {\"col\": \"y4\", \"idx\": 7, \"val\": 78}, {\"col\": \"y5\", \"idx\": 7, \"val\": 63}, {\"col\": \"y6\", \"idx\": 7, \"val\": 97}, {\"col\": \"y7\", \"idx\": 7, \"val\": 81}, {\"col\": \"y8\", \"idx\": 7, \"val\": 69}, {\"col\": \"y9\", \"idx\": 7, \"val\": 23}, {\"col\": \"y0\", \"idx\": 8, \"val\": 14}, {\"col\": \"y1\", \"idx\": 8, \"val\": 43}, {\"col\": \"y2\", \"idx\": 8, \"val\": 92}, {\"col\": \"y3\", \"idx\": 8, \"val\": 28}, {\"col\": \"y4\", \"idx\": 8, \"val\": 54}, {\"col\": \"y5\", \"idx\": 8, \"val\": 93}, {\"col\": \"y6\", \"idx\": 8, \"val\": 89}, {\"col\": \"y7\", \"idx\": 8, \"val\": 96}, {\"col\": \"y8\", \"idx\": 8, \"val\": 76}, {\"col\": \"y9\", \"idx\": 8, \"val\": 70}, {\"col\": \"y0\", \"idx\": 9, \"val\": 34}, {\"col\": \"y1\", \"idx\": 9, \"val\": 57}, {\"col\": \"y2\", \"idx\": 9, \"val\": 42}, {\"col\": \"y3\", \"idx\": 9, \"val\": 57}, {\"col\": \"y4\", \"idx\": 9, \"val\": 30}, {\"col\": \"y5\", \"idx\": 9, \"val\": 79}, {\"col\": \"y6\", \"idx\": 9, \"val\": 72}, {\"col\": \"y7\", \"idx\": 9, \"val\": 74}, {\"col\": \"y8\", \"idx\": 9, \"val\": 88}, {\"col\": \"y9\", \"idx\": 9, \"val\": 99}, {\"col\": \"y0\", \"idx\": 10, \"val\": 26}, {\"col\": \"y1\", \"idx\": 10, \"val\": 60}, {\"col\": \"y2\", \"idx\": 10, \"val\": 30}, {\"col\": \"y3\", \"idx\": 10, \"val\": 44}, {\"col\": \"y4\", \"idx\": 10, \"val\": 74}, {\"col\": \"y5\", \"idx\": 10, \"val\": 32}, {\"col\": \"y6\", \"idx\": 10, \"val\": 88}, {\"col\": \"y7\", \"idx\": 10, \"val\": 81}, {\"col\": \"y8\", \"idx\": 10, \"val\": 41}, {\"col\": \"y9\", \"idx\": 10, \"val\": 79}, {\"col\": \"y0\", \"idx\": 11, \"val\": 89}, {\"col\": \"y1\", \"idx\": 11, \"val\": 56}, {\"col\": \"y2\", \"idx\": 11, \"val\": 36}, {\"col\": \"y3\", \"idx\": 11, \"val\": 28}, {\"col\": \"y4\", \"idx\": 11, \"val\": 14}, {\"col\": \"y5\", \"idx\": 11, \"val\": 65}, {\"col\": \"y6\", \"idx\": 11, \"val\": 42}, {\"col\": \"y7\", \"idx\": 11, \"val\": 67}, {\"col\": \"y8\", \"idx\": 11, \"val\": 61}, {\"col\": \"y9\", \"idx\": 11, \"val\": 37}, {\"col\": \"y0\", \"idx\": 12, \"val\": 49}, {\"col\": \"y1\", \"idx\": 12, \"val\": 48}, {\"col\": \"y2\", \"idx\": 12, \"val\": 81}, {\"col\": \"y3\", \"idx\": 12, \"val\": 76}, {\"col\": \"y4\", \"idx\": 12, \"val\": 89}, {\"col\": \"y5\", \"idx\": 12, \"val\": 68}, {\"col\": \"y6\", \"idx\": 12, \"val\": 95}, {\"col\": \"y7\", \"idx\": 12, \"val\": 83}, {\"col\": \"y8\", \"idx\": 12, \"val\": 60}, {\"col\": \"y9\", \"idx\": 12, \"val\": 70}, {\"col\": \"y0\", \"idx\": 13, \"val\": 86}, {\"col\": \"y1\", \"idx\": 13, \"val\": 17}, {\"col\": \"y2\", \"idx\": 13, \"val\": 68}, {\"col\": \"y3\", \"idx\": 13, \"val\": 52}, {\"col\": \"y4\", \"idx\": 13, \"val\": 64}, {\"col\": \"y5\", \"idx\": 13, \"val\": 96}, {\"col\": \"y6\", \"idx\": 13, \"val\": 90}, {\"col\": \"y7\", \"idx\": 13, \"val\": 32}, {\"col\": \"y8\", \"idx\": 13, \"val\": 45}, {\"col\": \"y9\", \"idx\": 13, \"val\": 34}, {\"col\": \"y0\", \"idx\": 14, \"val\": 44}, {\"col\": \"y1\", \"idx\": 14, \"val\": 90}, {\"col\": \"y2\", \"idx\": 14, \"val\": 79}, {\"col\": \"y3\", \"idx\": 14, \"val\": 23}, {\"col\": \"y4\", \"idx\": 14, \"val\": 82}, {\"col\": \"y5\", \"idx\": 14, \"val\": 56}, {\"col\": \"y6\", \"idx\": 14, \"val\": 84}, {\"col\": \"y7\", \"idx\": 14, \"val\": 84}, {\"col\": \"y8\", \"idx\": 14, \"val\": 58}, {\"col\": \"y9\", \"idx\": 14, \"val\": 79}, {\"col\": \"y0\", \"idx\": 15, \"val\": 83}, {\"col\": \"y1\", \"idx\": 15, \"val\": 10}, {\"col\": \"y2\", \"idx\": 15, \"val\": 90}, {\"col\": \"y3\", \"idx\": 15, \"val\": 42}, {\"col\": \"y4\", \"idx\": 15, \"val\": 96}, {\"col\": \"y5\", \"idx\": 15, \"val\": 59}, {\"col\": \"y6\", \"idx\": 15, \"val\": 53}, {\"col\": \"y7\", \"idx\": 15, \"val\": 65}, {\"col\": \"y8\", \"idx\": 15, \"val\": 44}, {\"col\": \"y9\", \"idx\": 15, \"val\": 81}, {\"col\": \"y0\", \"idx\": 16, \"val\": 52}, {\"col\": \"y1\", \"idx\": 16, \"val\": 20}, {\"col\": \"y2\", \"idx\": 16, \"val\": 64}, {\"col\": \"y3\", \"idx\": 16, \"val\": 80}, {\"col\": \"y4\", \"idx\": 16, \"val\": 17}, {\"col\": \"y5\", \"idx\": 16, \"val\": 53}, {\"col\": \"y6\", \"idx\": 16, \"val\": 66}, {\"col\": \"y7\", \"idx\": 16, \"val\": 100}, {\"col\": \"y8\", \"idx\": 16, \"val\": 50}, {\"col\": \"y9\", \"idx\": 16, \"val\": 23}, {\"col\": \"y0\", \"idx\": 17, \"val\": 82}, {\"col\": \"y1\", \"idx\": 17, \"val\": 88}, {\"col\": \"y2\", \"idx\": 17, \"val\": 18}, {\"col\": \"y3\", \"idx\": 17, \"val\": 90}, {\"col\": \"y4\", \"idx\": 17, \"val\": 50}, {\"col\": \"y5\", \"idx\": 17, \"val\": 34}, {\"col\": \"y6\", \"idx\": 17, \"val\": 31}, {\"col\": \"y7\", \"idx\": 17, \"val\": 99}, {\"col\": \"y8\", \"idx\": 17, \"val\": 11}, {\"col\": \"y9\", \"idx\": 17, \"val\": 69}, {\"col\": \"y0\", \"idx\": 18, \"val\": 79}, {\"col\": \"y1\", \"idx\": 18, \"val\": 34}, {\"col\": \"y2\", \"idx\": 18, \"val\": 71}, {\"col\": \"y3\", \"idx\": 18, \"val\": 98}, {\"col\": \"y4\", \"idx\": 18, \"val\": 78}, {\"col\": \"y5\", \"idx\": 18, \"val\": 30}, {\"col\": \"y6\", \"idx\": 18, \"val\": 83}, {\"col\": \"y7\", \"idx\": 18, \"val\": 44}, {\"col\": \"y8\", \"idx\": 18, \"val\": 69}, {\"col\": \"y9\", \"idx\": 18, \"val\": 38}, {\"col\": \"y0\", \"idx\": 19, \"val\": 67}, {\"col\": \"y1\", \"idx\": 19, \"val\": 23}, {\"col\": \"y2\", \"idx\": 19, \"val\": 14}, {\"col\": \"y3\", \"idx\": 19, \"val\": 69}, {\"col\": \"y4\", \"idx\": 19, \"val\": 73}, {\"col\": \"y5\", \"idx\": 19, \"val\": 18}, {\"col\": \"y6\", \"idx\": 19, \"val\": 42}, {\"col\": \"y7\", \"idx\": 19, \"val\": 48}, {\"col\": \"y8\", \"idx\": 19, \"val\": 68}, {\"col\": \"y9\", \"idx\": 19, \"val\": 49}, {\"col\": \"y0\", \"idx\": 20, \"val\": 23}, {\"col\": \"y1\", \"idx\": 20, \"val\": 70}, {\"col\": \"y2\", \"idx\": 20, \"val\": 22}, {\"col\": \"y3\", \"idx\": 20, \"val\": 22}, {\"col\": \"y4\", \"idx\": 20, \"val\": 91}, {\"col\": \"y5\", \"idx\": 20, \"val\": 89}, {\"col\": \"y6\", \"idx\": 20, \"val\": 46}, {\"col\": \"y7\", \"idx\": 20, \"val\": 27}, {\"col\": \"y8\", \"idx\": 20, \"val\": 23}, {\"col\": \"y9\", \"idx\": 20, \"val\": 88}]}, {\"name\": \"stats\", \"source\": \"table\", \"transform\": [{\"keys\": [\"data.idx\"], \"type\": \"facet\"}, {\"type\": \"stats\", \"value\": \"data.val\"}]}], \"height\": 500, \"legends\": [{\"fill\": \"color\", \"offset\": 0, \"title\": \"Categories\"}], \"marks\": [{\"from\": {\"data\": \"table\", \"transform\": [{\"keys\": [\"data.col\"], \"type\": \"facet\"}, {\"height\": \"data.val\", \"point\": \"data.idx\", \"type\": \"stack\"}]}, \"marks\": [{\"properties\": {\"enter\": {\"fill\": {\"field\": \"data.col\", \"scale\": \"color\"}, \"interpolate\": {\"value\": \"monotone\"}, \"x\": {\"field\": \"data.idx\", \"scale\": \"x\"}, \"y\": {\"field\": \"y\", \"scale\": \"y\"}, \"y2\": {\"field\": \"y2\", \"scale\": \"y\"}}}, \"type\": \"area\"}], \"type\": \"group\"}], \"padding\": \"auto\", \"scales\": [{\"domain\": {\"data\": \"table\", \"field\": \"data.idx\"}, \"name\": \"x\", \"range\": \"width\", \"type\": \"linear\", \"zero\": false}, {\"domain\": {\"data\": \"stats\", \"field\": \"sum\"}, \"name\": \"y\", \"nice\": true, \"range\": \"height\"}, {\"domain\": {\"data\": \"table\", \"field\": \"data.col\"}, \"name\": \"color\", \"range\": [\"#9e0142\", \"#d53e4f\", \"#f46d43\", \"#fdae61\", \"#fee08b\", \"#ffffbf\", \"#e6f598\", \"#abdda4\", \"#66c2a5\", \"#3288bd\", \"#5e4fa2\"], \"type\": \"ordinal\"}], \"width\": 960}, function(chart) {\n",
        "         chart({el: \"#vis217de54dfea64957b94018572d0fe89b\"}).update();\n",
        "       });\n",
        "     };\n",
        "     _do_plot();\n",
        "   })();\n",
        "</script>\n",
        "<style>.vega canvas {width: 100%;}</style>\n",
        "        "
       ],
       "metadata": {},
       "output_type": "pyout",
       "prompt_number": 29,
       "text": [
        "<vincent.charts.Area at 0x1098c7f90>"
       ]
      }
     ],
     "prompt_number": 29
    },
    {
     "cell_type": "code",
     "collapsed": false,
     "input": [
      "stacked = vincent.StackedArea(price)\n",
      "stacked.axis_titles(x='Date', y='Price')\n",
      "stacked.legend(title='Tech Stocks')\n",
      "stacked"
     ],
     "language": "python",
     "metadata": {},
     "outputs": [
      {
       "ename": "NameError",
       "evalue": "name 'price' is not defined",
       "output_type": "pyerr",
       "traceback": [
        "\u001b[0;31m---------------------------------------------------------------------------\u001b[0m\n\u001b[0;31mNameError\u001b[0m                                 Traceback (most recent call last)",
        "\u001b[0;32m<ipython-input-20-a5286ef7eca4>\u001b[0m in \u001b[0;36m<module>\u001b[0;34m()\u001b[0m\n\u001b[0;32m----> 1\u001b[0;31m \u001b[0mstacked\u001b[0m \u001b[0;34m=\u001b[0m \u001b[0mvincent\u001b[0m\u001b[0;34m.\u001b[0m\u001b[0mStackedArea\u001b[0m\u001b[0;34m(\u001b[0m\u001b[0mprice\u001b[0m\u001b[0;34m)\u001b[0m\u001b[0;34m\u001b[0m\u001b[0m\n\u001b[0m\u001b[1;32m      2\u001b[0m \u001b[0mstacked\u001b[0m\u001b[0;34m.\u001b[0m\u001b[0maxis_titles\u001b[0m\u001b[0;34m(\u001b[0m\u001b[0mx\u001b[0m\u001b[0;34m=\u001b[0m\u001b[0;34m'Date'\u001b[0m\u001b[0;34m,\u001b[0m \u001b[0my\u001b[0m\u001b[0;34m=\u001b[0m\u001b[0;34m'Price'\u001b[0m\u001b[0;34m)\u001b[0m\u001b[0;34m\u001b[0m\u001b[0m\n\u001b[1;32m      3\u001b[0m \u001b[0mstacked\u001b[0m\u001b[0;34m.\u001b[0m\u001b[0mlegend\u001b[0m\u001b[0;34m(\u001b[0m\u001b[0mtitle\u001b[0m\u001b[0;34m=\u001b[0m\u001b[0;34m'Tech Stocks'\u001b[0m\u001b[0;34m)\u001b[0m\u001b[0;34m\u001b[0m\u001b[0m\n\u001b[1;32m      4\u001b[0m \u001b[0mstacked\u001b[0m\u001b[0;34m\u001b[0m\u001b[0m\n",
        "\u001b[0;31mNameError\u001b[0m: name 'price' is not defined"
       ]
      }
     ],
     "prompt_number": 20
    },
    {
     "cell_type": "code",
     "collapsed": false,
     "input": [
      "stack = vincent.StackedBar(df_2)\n",
      "stack.legend(title='Categories')\n",
      "stack.scales['x'].padding = 0.1\n",
      "stack"
     ],
     "language": "python",
     "metadata": {},
     "outputs": [
      {
       "html": [
        "<div id=\"vis62993fa8405e48a8829ff8d14ff8ae98\"></div>\n",
        "<script>\n",
        "   ( function() {\n",
        "     var _do_plot = function() {\n",
        "       if ( (typeof vg == 'undefined') && (typeof IPython != 'undefined')) {\n",
        "         $([IPython.events]).on(\"vega_loaded.vincent\", _do_plot);\n",
        "         return;\n",
        "       }\n",
        "       vg.parse.spec({\"axes\": [{\"scale\": \"x\", \"type\": \"x\"}, {\"scale\": \"y\", \"type\": \"y\"}], \"data\": [{\"name\": \"table\", \"values\": [{\"col\": \"Metric_0\", \"idx\": \"Data 1\", \"val\": 38}, {\"col\": \"Metric_1\", \"idx\": \"Data 1\", \"val\": 36}, {\"col\": \"Metric_2\", \"idx\": \"Data 1\", \"val\": 41}, {\"col\": \"Metric_3\", \"idx\": \"Data 1\", \"val\": 32}, {\"col\": \"Metric_4\", \"idx\": \"Data 1\", \"val\": 69}, {\"col\": \"Metric_5\", \"idx\": \"Data 1\", \"val\": 20}, {\"col\": \"Metric_6\", \"idx\": \"Data 1\", \"val\": 12}, {\"col\": \"Metric_7\", \"idx\": \"Data 1\", \"val\": 10}, {\"col\": \"Metric_8\", \"idx\": \"Data 1\", \"val\": 45}, {\"col\": \"Metric_9\", \"idx\": \"Data 1\", \"val\": 18}, {\"col\": \"Metric_0\", \"idx\": \"Data 2\", \"val\": 38}, {\"col\": \"Metric_1\", \"idx\": \"Data 2\", \"val\": 81}, {\"col\": \"Metric_2\", \"idx\": \"Data 2\", \"val\": 93}, {\"col\": \"Metric_3\", \"idx\": \"Data 2\", \"val\": 13}, {\"col\": \"Metric_4\", \"idx\": \"Data 2\", \"val\": 26}, {\"col\": \"Metric_5\", \"idx\": \"Data 2\", \"val\": 37}, {\"col\": \"Metric_6\", \"idx\": \"Data 2\", \"val\": 76}, {\"col\": \"Metric_7\", \"idx\": \"Data 2\", \"val\": 80}, {\"col\": \"Metric_8\", \"idx\": \"Data 2\", \"val\": 68}, {\"col\": \"Metric_9\", \"idx\": \"Data 2\", \"val\": 50}, {\"col\": \"Metric_0\", \"idx\": \"Data 3\", \"val\": 66}, {\"col\": \"Metric_1\", \"idx\": \"Data 3\", \"val\": 98}, {\"col\": \"Metric_2\", \"idx\": \"Data 3\", \"val\": 45}, {\"col\": \"Metric_3\", \"idx\": \"Data 3\", \"val\": 77}, {\"col\": \"Metric_4\", \"idx\": \"Data 3\", \"val\": 25}, {\"col\": \"Metric_5\", \"idx\": \"Data 3\", \"val\": 89}, {\"col\": \"Metric_6\", \"idx\": \"Data 3\", \"val\": 25}, {\"col\": \"Metric_7\", \"idx\": \"Data 3\", \"val\": 11}, {\"col\": \"Metric_8\", \"idx\": \"Data 3\", \"val\": 98}, {\"col\": \"Metric_9\", \"idx\": \"Data 3\", \"val\": 57}, {\"col\": \"Metric_0\", \"idx\": \"Data 4\", \"val\": 40}, {\"col\": \"Metric_1\", \"idx\": \"Data 4\", \"val\": 67}, {\"col\": \"Metric_2\", \"idx\": \"Data 4\", \"val\": 87}, {\"col\": \"Metric_3\", \"idx\": \"Data 4\", \"val\": 27}, {\"col\": \"Metric_4\", \"idx\": \"Data 4\", \"val\": 20}, {\"col\": \"Metric_5\", \"idx\": \"Data 4\", \"val\": 71}, {\"col\": \"Metric_6\", \"idx\": \"Data 4\", \"val\": 47}, {\"col\": \"Metric_7\", \"idx\": \"Data 4\", \"val\": 43}, {\"col\": \"Metric_8\", \"idx\": \"Data 4\", \"val\": 80}, {\"col\": \"Metric_9\", \"idx\": \"Data 4\", \"val\": 29}]}, {\"name\": \"stats\", \"source\": \"table\", \"transform\": [{\"keys\": [\"data.idx\"], \"type\": \"facet\"}, {\"type\": \"stats\", \"value\": \"data.val\"}]}], \"height\": 500, \"legends\": [{\"fill\": \"color\", \"offset\": 0, \"title\": \"Categories\"}], \"marks\": [{\"from\": {\"data\": \"table\", \"transform\": [{\"keys\": [\"data.col\"], \"type\": \"facet\"}, {\"height\": \"data.val\", \"point\": \"data.idx\", \"type\": \"stack\"}]}, \"marks\": [{\"properties\": {\"enter\": {\"fill\": {\"field\": \"data.col\", \"scale\": \"color\"}, \"width\": {\"band\": true, \"offset\": -1, \"scale\": \"x\"}, \"x\": {\"field\": \"data.idx\", \"scale\": \"x\"}, \"y\": {\"field\": \"y\", \"scale\": \"y\"}, \"y2\": {\"field\": \"y2\", \"scale\": \"y\"}}}, \"type\": \"rect\"}], \"type\": \"group\"}], \"padding\": \"auto\", \"scales\": [{\"domain\": {\"data\": \"table\", \"field\": \"data.idx\"}, \"name\": \"x\", \"padding\": 0.1, \"range\": \"width\", \"type\": \"ordinal\", \"zero\": false}, {\"domain\": {\"data\": \"stats\", \"field\": \"sum\"}, \"name\": \"y\", \"nice\": true, \"range\": \"height\"}, {\"domain\": {\"data\": \"table\", \"field\": \"data.col\"}, \"name\": \"color\", \"range\": \"category20\", \"type\": \"ordinal\"}], \"width\": 960}, function(chart) {\n",
        "         chart({el: \"#vis62993fa8405e48a8829ff8d14ff8ae98\"}).update();\n",
        "       });\n",
        "     };\n",
        "     _do_plot();\n",
        "   })();\n",
        "</script>\n",
        "<style>.vega canvas {width: 100%;}</style>\n",
        "        "
       ],
       "metadata": {},
       "output_type": "pyout",
       "prompt_number": 21,
       "text": [
        "<vincent.charts.Bar at 0x1098b3e90>"
       ]
      }
     ],
     "prompt_number": 21
    },
    {
     "cell_type": "code",
     "collapsed": false,
     "input": [
      "stack = vincent.StackedBar(df_farm.T)\n",
      "stack.axis_titles(x='Total Produce', y='Farms')\n",
      "stack.legend(title='Produce Types')\n",
      "stack.colors(brew='Pastel1')\n",
      "stack"
     ],
     "language": "python",
     "metadata": {},
     "outputs": [
      {
       "html": [
        "<div id=\"vis4f2da7f05680416a945abfccd2781f25\"></div>\n",
        "<script>\n",
        "   ( function() {\n",
        "     var _do_plot = function() {\n",
        "       if ( (typeof vg == 'undefined') && (typeof IPython != 'undefined')) {\n",
        "         $([IPython.events]).on(\"vega_loaded.vincent\", _do_plot);\n",
        "         return;\n",
        "       }\n",
        "       vg.parse.spec({\"axes\": [{\"scale\": \"x\", \"title\": \"Total Produce\", \"type\": \"x\"}, {\"scale\": \"y\", \"title\": \"Farms\", \"type\": \"y\"}], \"data\": [{\"name\": \"table\", \"values\": [{\"col\": \"Farm 1\", \"idx\": \"apples\", \"val\": 10}, {\"col\": \"Farm 2\", \"idx\": \"apples\", \"val\": 15}, {\"col\": \"Farm 3\", \"idx\": \"apples\", \"val\": 6}, {\"col\": \"Farm 4\", \"idx\": \"apples\", \"val\": 12}, {\"col\": \"Farm 1\", \"idx\": \"berries\", \"val\": 32}, {\"col\": \"Farm 2\", \"idx\": \"berries\", \"val\": 43}, {\"col\": \"Farm 3\", \"idx\": \"berries\", \"val\": 24}, {\"col\": \"Farm 4\", \"idx\": \"berries\", \"val\": 30}, {\"col\": \"Farm 1\", \"idx\": \"corn\", \"val\": 18}, {\"col\": \"Farm 2\", \"idx\": \"corn\", \"val\": 22}, {\"col\": \"Farm 3\", \"idx\": \"corn\", \"val\": 30}, {\"col\": \"Farm 4\", \"idx\": \"corn\", \"val\": 15}, {\"col\": \"Farm 1\", \"idx\": \"melons\", \"val\": 13}, {\"col\": \"Farm 2\", \"idx\": \"melons\", \"val\": 10}, {\"col\": \"Farm 3\", \"idx\": \"melons\", \"val\": 16}, {\"col\": \"Farm 4\", \"idx\": \"melons\", \"val\": 9}, {\"col\": \"Farm 1\", \"idx\": \"squash\", \"val\": 21}, {\"col\": \"Farm 2\", \"idx\": \"squash\", \"val\": 17}, {\"col\": \"Farm 3\", \"idx\": \"squash\", \"val\": 22}, {\"col\": \"Farm 4\", \"idx\": \"squash\", \"val\": 15}]}, {\"name\": \"stats\", \"source\": \"table\", \"transform\": [{\"keys\": [\"data.idx\"], \"type\": \"facet\"}, {\"type\": \"stats\", \"value\": \"data.val\"}]}], \"height\": 500, \"legends\": [{\"fill\": \"color\", \"offset\": 0, \"title\": \"Produce Types\"}], \"marks\": [{\"from\": {\"data\": \"table\", \"transform\": [{\"keys\": [\"data.col\"], \"type\": \"facet\"}, {\"height\": \"data.val\", \"point\": \"data.idx\", \"type\": \"stack\"}]}, \"marks\": [{\"properties\": {\"enter\": {\"fill\": {\"field\": \"data.col\", \"scale\": \"color\"}, \"width\": {\"band\": true, \"offset\": -1, \"scale\": \"x\"}, \"x\": {\"field\": \"data.idx\", \"scale\": \"x\"}, \"y\": {\"field\": \"y\", \"scale\": \"y\"}, \"y2\": {\"field\": \"y2\", \"scale\": \"y\"}}}, \"type\": \"rect\"}], \"type\": \"group\"}], \"padding\": \"auto\", \"scales\": [{\"domain\": {\"data\": \"table\", \"field\": \"data.idx\"}, \"name\": \"x\", \"range\": \"width\", \"type\": \"ordinal\", \"zero\": false}, {\"domain\": {\"data\": \"stats\", \"field\": \"sum\"}, \"name\": \"y\", \"nice\": true, \"range\": \"height\"}, {\"domain\": {\"data\": \"table\", \"field\": \"data.col\"}, \"name\": \"color\", \"range\": [\"#fbb4ae\", \"#b3cde3\", \"#ccebc5\", \"#decbe4\", \"#fed9a6\", \"#ffffcc\", \"#e5d8bd\", \"#fddaec\", \"#f2f2f2\"], \"type\": \"ordinal\"}], \"width\": 960}, function(chart) {\n",
        "         chart({el: \"#vis4f2da7f05680416a945abfccd2781f25\"}).update();\n",
        "       });\n",
        "     };\n",
        "     _do_plot();\n",
        "   })();\n",
        "</script>\n",
        "<style>.vega canvas {width: 100%;}</style>\n",
        "        "
       ],
       "metadata": {},
       "output_type": "pyout",
       "prompt_number": 22,
       "text": [
        "<vincent.charts.Bar at 0x1098bf1d0>"
       ]
      }
     ],
     "prompt_number": 22
    },
    {
     "cell_type": "code",
     "collapsed": false,
     "input": [
      "group = vincent.GroupedBar(df_2)\n",
      "group.legend(title='Categories')\n",
      "group.colors(brew='Spectral')\n",
      "group.width=750\n",
      "group"
     ],
     "language": "python",
     "metadata": {},
     "outputs": [
      {
       "html": [
        "<div id=\"visc8074a18d5ee4a75a9f53340ab330a02\"></div>\n",
        "<script>\n",
        "   ( function() {\n",
        "     var _do_plot = function() {\n",
        "       if ( (typeof vg == 'undefined') && (typeof IPython != 'undefined')) {\n",
        "         $([IPython.events]).on(\"vega_loaded.vincent\", _do_plot);\n",
        "         return;\n",
        "       }\n",
        "       vg.parse.spec({\"axes\": [{\"scale\": \"x\", \"type\": \"x\"}, {\"scale\": \"y\", \"type\": \"y\"}], \"data\": [{\"name\": \"table\", \"values\": [{\"col\": \"Metric_0\", \"idx\": \"Data 1\", \"val\": 38}, {\"col\": \"Metric_1\", \"idx\": \"Data 1\", \"val\": 36}, {\"col\": \"Metric_2\", \"idx\": \"Data 1\", \"val\": 41}, {\"col\": \"Metric_3\", \"idx\": \"Data 1\", \"val\": 32}, {\"col\": \"Metric_4\", \"idx\": \"Data 1\", \"val\": 69}, {\"col\": \"Metric_5\", \"idx\": \"Data 1\", \"val\": 20}, {\"col\": \"Metric_6\", \"idx\": \"Data 1\", \"val\": 12}, {\"col\": \"Metric_7\", \"idx\": \"Data 1\", \"val\": 10}, {\"col\": \"Metric_8\", \"idx\": \"Data 1\", \"val\": 45}, {\"col\": \"Metric_9\", \"idx\": \"Data 1\", \"val\": 18}, {\"col\": \"Metric_0\", \"idx\": \"Data 2\", \"val\": 38}, {\"col\": \"Metric_1\", \"idx\": \"Data 2\", \"val\": 81}, {\"col\": \"Metric_2\", \"idx\": \"Data 2\", \"val\": 93}, {\"col\": \"Metric_3\", \"idx\": \"Data 2\", \"val\": 13}, {\"col\": \"Metric_4\", \"idx\": \"Data 2\", \"val\": 26}, {\"col\": \"Metric_5\", \"idx\": \"Data 2\", \"val\": 37}, {\"col\": \"Metric_6\", \"idx\": \"Data 2\", \"val\": 76}, {\"col\": \"Metric_7\", \"idx\": \"Data 2\", \"val\": 80}, {\"col\": \"Metric_8\", \"idx\": \"Data 2\", \"val\": 68}, {\"col\": \"Metric_9\", \"idx\": \"Data 2\", \"val\": 50}, {\"col\": \"Metric_0\", \"idx\": \"Data 3\", \"val\": 66}, {\"col\": \"Metric_1\", \"idx\": \"Data 3\", \"val\": 98}, {\"col\": \"Metric_2\", \"idx\": \"Data 3\", \"val\": 45}, {\"col\": \"Metric_3\", \"idx\": \"Data 3\", \"val\": 77}, {\"col\": \"Metric_4\", \"idx\": \"Data 3\", \"val\": 25}, {\"col\": \"Metric_5\", \"idx\": \"Data 3\", \"val\": 89}, {\"col\": \"Metric_6\", \"idx\": \"Data 3\", \"val\": 25}, {\"col\": \"Metric_7\", \"idx\": \"Data 3\", \"val\": 11}, {\"col\": \"Metric_8\", \"idx\": \"Data 3\", \"val\": 98}, {\"col\": \"Metric_9\", \"idx\": \"Data 3\", \"val\": 57}, {\"col\": \"Metric_0\", \"idx\": \"Data 4\", \"val\": 40}, {\"col\": \"Metric_1\", \"idx\": \"Data 4\", \"val\": 67}, {\"col\": \"Metric_2\", \"idx\": \"Data 4\", \"val\": 87}, {\"col\": \"Metric_3\", \"idx\": \"Data 4\", \"val\": 27}, {\"col\": \"Metric_4\", \"idx\": \"Data 4\", \"val\": 20}, {\"col\": \"Metric_5\", \"idx\": \"Data 4\", \"val\": 71}, {\"col\": \"Metric_6\", \"idx\": \"Data 4\", \"val\": 47}, {\"col\": \"Metric_7\", \"idx\": \"Data 4\", \"val\": 43}, {\"col\": \"Metric_8\", \"idx\": \"Data 4\", \"val\": 80}, {\"col\": \"Metric_9\", \"idx\": \"Data 4\", \"val\": 29}]}], \"height\": 500, \"legends\": [{\"fill\": \"color\", \"offset\": 0, \"title\": \"Categories\"}], \"marks\": [{\"from\": {\"data\": \"table\", \"transform\": [{\"keys\": [\"data.idx\"], \"type\": \"facet\"}]}, \"marks\": [{\"properties\": {\"enter\": {\"fill\": {\"field\": \"data.col\", \"scale\": \"color\"}, \"width\": {\"band\": true, \"offset\": -1, \"scale\": \"pos\"}, \"x\": {\"field\": \"data.col\", \"scale\": \"pos\"}, \"y\": {\"field\": \"data.val\", \"scale\": \"y\"}, \"y2\": {\"scale\": \"y\", \"value\": 0}}}, \"type\": \"rect\"}], \"properties\": {\"enter\": {\"width\": {\"band\": true, \"scale\": \"x\"}, \"x\": {\"field\": \"key\", \"scale\": \"x\"}}}, \"scales\": [{\"domain\": {\"field\": \"data.col\"}, \"name\": \"pos\", \"range\": \"width\", \"type\": \"ordinal\"}], \"type\": \"group\"}], \"padding\": \"auto\", \"scales\": [{\"domain\": {\"data\": \"table\", \"field\": \"data.idx\"}, \"name\": \"x\", \"padding\": 0.2, \"range\": \"width\", \"type\": \"ordinal\"}, {\"domain\": {\"data\": \"table\", \"field\": \"data.val\"}, \"name\": \"y\", \"nice\": true, \"range\": \"height\"}, {\"domain\": {\"data\": \"table\", \"field\": \"data.col\"}, \"name\": \"color\", \"range\": [\"#9e0142\", \"#d53e4f\", \"#f46d43\", \"#fdae61\", \"#fee08b\", \"#ffffbf\", \"#e6f598\", \"#abdda4\", \"#66c2a5\", \"#3288bd\", \"#5e4fa2\"], \"type\": \"ordinal\"}], \"width\": 750}, function(chart) {\n",
        "         chart({el: \"#visc8074a18d5ee4a75a9f53340ab330a02\"}).update();\n",
        "       });\n",
        "     };\n",
        "     _do_plot();\n",
        "   })();\n",
        "</script>\n",
        "<style>.vega canvas {width: 100%;}</style>\n",
        "        "
       ],
       "metadata": {},
       "output_type": "pyout",
       "prompt_number": 23,
       "text": [
        "<vincent.charts.GroupedBar at 0x1098bf390>"
       ]
      }
     ],
     "prompt_number": 23
    },
    {
     "cell_type": "code",
     "collapsed": false,
     "input": [
      "group = vincent.GroupedBar(df_farm)\n",
      "group.axis_titles(x='Total Produce', y='Farms')\n",
      "group.legend(title='Produce Types')\n",
      "group.colors(brew='Set2')\n",
      "group"
     ],
     "language": "python",
     "metadata": {},
     "outputs": [
      {
       "html": [
        "<div id=\"vis7ece7d883c8644d4b69f21e7c41b5eb4\"></div>\n",
        "<script>\n",
        "   ( function() {\n",
        "     var _do_plot = function() {\n",
        "       if ( (typeof vg == 'undefined') && (typeof IPython != 'undefined')) {\n",
        "         $([IPython.events]).on(\"vega_loaded.vincent\", _do_plot);\n",
        "         return;\n",
        "       }\n",
        "       vg.parse.spec({\"axes\": [{\"scale\": \"x\", \"title\": \"Total Produce\", \"type\": \"x\"}, {\"scale\": \"y\", \"title\": \"Farms\", \"type\": \"y\"}], \"data\": [{\"name\": \"table\", \"values\": [{\"col\": \"apples\", \"idx\": \"Farm 1\", \"val\": 10}, {\"col\": \"berries\", \"idx\": \"Farm 1\", \"val\": 32}, {\"col\": \"corn\", \"idx\": \"Farm 1\", \"val\": 18}, {\"col\": \"melons\", \"idx\": \"Farm 1\", \"val\": 13}, {\"col\": \"squash\", \"idx\": \"Farm 1\", \"val\": 21}, {\"col\": \"apples\", \"idx\": \"Farm 2\", \"val\": 15}, {\"col\": \"berries\", \"idx\": \"Farm 2\", \"val\": 43}, {\"col\": \"corn\", \"idx\": \"Farm 2\", \"val\": 22}, {\"col\": \"melons\", \"idx\": \"Farm 2\", \"val\": 10}, {\"col\": \"squash\", \"idx\": \"Farm 2\", \"val\": 17}, {\"col\": \"apples\", \"idx\": \"Farm 3\", \"val\": 6}, {\"col\": \"berries\", \"idx\": \"Farm 3\", \"val\": 24}, {\"col\": \"corn\", \"idx\": \"Farm 3\", \"val\": 30}, {\"col\": \"melons\", \"idx\": \"Farm 3\", \"val\": 16}, {\"col\": \"squash\", \"idx\": \"Farm 3\", \"val\": 22}, {\"col\": \"apples\", \"idx\": \"Farm 4\", \"val\": 12}, {\"col\": \"berries\", \"idx\": \"Farm 4\", \"val\": 30}, {\"col\": \"corn\", \"idx\": \"Farm 4\", \"val\": 15}, {\"col\": \"melons\", \"idx\": \"Farm 4\", \"val\": 9}, {\"col\": \"squash\", \"idx\": \"Farm 4\", \"val\": 15}]}], \"height\": 500, \"legends\": [{\"fill\": \"color\", \"offset\": 0, \"title\": \"Produce Types\"}], \"marks\": [{\"from\": {\"data\": \"table\", \"transform\": [{\"keys\": [\"data.idx\"], \"type\": \"facet\"}]}, \"marks\": [{\"properties\": {\"enter\": {\"fill\": {\"field\": \"data.col\", \"scale\": \"color\"}, \"width\": {\"band\": true, \"offset\": -1, \"scale\": \"pos\"}, \"x\": {\"field\": \"data.col\", \"scale\": \"pos\"}, \"y\": {\"field\": \"data.val\", \"scale\": \"y\"}, \"y2\": {\"scale\": \"y\", \"value\": 0}}}, \"type\": \"rect\"}], \"properties\": {\"enter\": {\"width\": {\"band\": true, \"scale\": \"x\"}, \"x\": {\"field\": \"key\", \"scale\": \"x\"}}}, \"scales\": [{\"domain\": {\"field\": \"data.col\"}, \"name\": \"pos\", \"range\": \"width\", \"type\": \"ordinal\"}], \"type\": \"group\"}], \"padding\": \"auto\", \"scales\": [{\"domain\": {\"data\": \"table\", \"field\": \"data.idx\"}, \"name\": \"x\", \"padding\": 0.2, \"range\": \"width\", \"type\": \"ordinal\"}, {\"domain\": {\"data\": \"table\", \"field\": \"data.val\"}, \"name\": \"y\", \"nice\": true, \"range\": \"height\"}, {\"domain\": {\"data\": \"table\", \"field\": \"data.col\"}, \"name\": \"color\", \"range\": [\"#66c2a5\", \"#fc8d62\", \"#8da0cb\", \"#e78ac3\", \"#a6d854\", \"#ffd92f\", \"#e5c494\", \"#b3b3b3\"], \"type\": \"ordinal\"}], \"width\": 960}, function(chart) {\n",
        "         chart({el: \"#vis7ece7d883c8644d4b69f21e7c41b5eb4\"}).update();\n",
        "       });\n",
        "     };\n",
        "     _do_plot();\n",
        "   })();\n",
        "</script>\n",
        "<style>.vega canvas {width: 100%;}</style>\n",
        "        "
       ],
       "metadata": {},
       "output_type": "pyout",
       "prompt_number": 24,
       "text": [
        "<vincent.charts.GroupedBar at 0x1098c41d0>"
       ]
      }
     ],
     "prompt_number": 24
    },
    {
     "cell_type": "code",
     "collapsed": false,
     "input": [
      "pie = vincent.Pie(farm_1)\n",
      "pie.legend('Farm 1 Fruit')\n",
      "pie"
     ],
     "language": "python",
     "metadata": {},
     "outputs": [
      {
       "html": [
        "<div id=\"vis50a4992d416b4ab49c7999f4bd52a8de\"></div>\n",
        "<script>\n",
        "   ( function() {\n",
        "     var _do_plot = function() {\n",
        "       if ( (typeof vg == 'undefined') && (typeof IPython != 'undefined')) {\n",
        "         $([IPython.events]).on(\"vega_loaded.vincent\", _do_plot);\n",
        "         return;\n",
        "       }\n",
        "       vg.parse.spec({\"axes\": [], \"data\": [{\"name\": \"table\", \"values\": [{\"col\": \"data\", \"idx\": \"apples\", \"val\": 10}, {\"col\": \"data\", \"idx\": \"berries\", \"val\": 32}, {\"col\": \"data\", \"idx\": \"corn\", \"val\": 18}, {\"col\": \"data\", \"idx\": \"melons\", \"val\": 13}, {\"col\": \"data\", \"idx\": \"squash\", \"val\": 21}]}], \"height\": 500, \"legends\": [{\"fill\": \"color\", \"offset\": 0, \"title\": \"Farm 1 Fruit\"}], \"marks\": [{\"from\": {\"data\": \"table\", \"transform\": [{\"type\": \"pie\", \"value\": \"data.val\"}]}, \"properties\": {\"enter\": {\"endAngle\": {\"field\": \"endAngle\"}, \"fill\": {\"field\": \"data.idx\", \"scale\": \"color\"}, \"innerRadius\": {\"value\": 0}, \"outerRadius\": {\"value\": 250}, \"startAngle\": {\"field\": \"startAngle\"}, \"stroke\": {\"value\": \"white\"}, \"x\": {\"group\": \"width\", \"mult\": 0.5}, \"y\": {\"group\": \"height\", \"mult\": 0.5}}}, \"type\": \"arc\"}], \"padding\": \"auto\", \"scales\": [{\"domain\": {\"data\": \"table\", \"field\": \"data.idx\"}, \"name\": \"color\", \"range\": \"category10\", \"type\": \"ordinal\"}], \"width\": 960}, function(chart) {\n",
        "         chart({el: \"#vis50a4992d416b4ab49c7999f4bd52a8de\"}).update();\n",
        "       });\n",
        "     };\n",
        "     _do_plot();\n",
        "   })();\n",
        "</script>\n",
        "<style>.vega canvas {width: 100%;}</style>\n",
        "        "
       ],
       "metadata": {},
       "output_type": "pyout",
       "prompt_number": 25,
       "text": [
        "<vincent.charts.Pie at 0x1098b3e50>"
       ]
      }
     ],
     "prompt_number": 25
    },
    {
     "cell_type": "code",
     "collapsed": false,
     "input": [
      "donut = vincent.Pie(farm_1, inner_radius=200)\n",
      "donut.colors(brew=\"Set2\")\n",
      "donut.legend('Farm 1 Fruit')\n",
      "donut"
     ],
     "language": "python",
     "metadata": {},
     "outputs": [
      {
       "html": [
        "<div id=\"vis9bb7fb59c96d47ab8b5f3108383390c0\"></div>\n",
        "<script>\n",
        "   ( function() {\n",
        "     var _do_plot = function() {\n",
        "       if ( (typeof vg == 'undefined') && (typeof IPython != 'undefined')) {\n",
        "         $([IPython.events]).on(\"vega_loaded.vincent\", _do_plot);\n",
        "         return;\n",
        "       }\n",
        "       vg.parse.spec({\"axes\": [], \"data\": [{\"name\": \"table\", \"values\": [{\"col\": \"data\", \"idx\": \"apples\", \"val\": 10}, {\"col\": \"data\", \"idx\": \"berries\", \"val\": 32}, {\"col\": \"data\", \"idx\": \"corn\", \"val\": 18}, {\"col\": \"data\", \"idx\": \"melons\", \"val\": 13}, {\"col\": \"data\", \"idx\": \"squash\", \"val\": 21}]}], \"height\": 500, \"legends\": [{\"fill\": \"color\", \"offset\": 0, \"title\": \"Farm 1 Fruit\"}], \"marks\": [{\"from\": {\"data\": \"table\", \"transform\": [{\"type\": \"pie\", \"value\": \"data.val\"}]}, \"properties\": {\"enter\": {\"endAngle\": {\"field\": \"endAngle\"}, \"fill\": {\"field\": \"data.idx\", \"scale\": \"color\"}, \"innerRadius\": {\"value\": 200}, \"outerRadius\": {\"value\": 250}, \"startAngle\": {\"field\": \"startAngle\"}, \"stroke\": {\"value\": \"white\"}, \"x\": {\"group\": \"width\", \"mult\": 0.5}, \"y\": {\"group\": \"height\", \"mult\": 0.5}}}, \"type\": \"arc\"}], \"padding\": \"auto\", \"scales\": [{\"domain\": {\"data\": \"table\", \"field\": \"data.idx\"}, \"name\": \"color\", \"range\": [\"#66c2a5\", \"#fc8d62\", \"#8da0cb\", \"#e78ac3\", \"#a6d854\", \"#ffd92f\", \"#e5c494\", \"#b3b3b3\"], \"type\": \"ordinal\"}], \"width\": 960}, function(chart) {\n",
        "         chart({el: \"#vis9bb7fb59c96d47ab8b5f3108383390c0\"}).update();\n",
        "       });\n",
        "     };\n",
        "     _do_plot();\n",
        "   })();\n",
        "</script>\n",
        "<style>.vega canvas {width: 100%;}</style>\n",
        "        "
       ],
       "metadata": {},
       "output_type": "pyout",
       "prompt_number": 26,
       "text": [
        "<vincent.charts.Pie at 0x1098c4bd0>"
       ]
      }
     ],
     "prompt_number": 26
    },
    {
     "cell_type": "code",
     "collapsed": false,
     "input": [
      "word = vincent.Word(word_list)\n",
      "word"
     ],
     "language": "python",
     "metadata": {},
     "outputs": [
      {
       "html": [
        "<div id=\"vis46cf49f3176b47f293d63e13bdf2c594\"></div>\n",
        "<script>\n",
        "   ( function() {\n",
        "     var _do_plot = function() {\n",
        "       if ( (typeof vg == 'undefined') && (typeof IPython != 'undefined')) {\n",
        "         $([IPython.events]).on(\"vega_loaded.vincent\", _do_plot);\n",
        "         return;\n",
        "       }\n",
        "       vg.parse.spec({\"axes\": [], \"data\": [{\"name\": \"table\", \"transform\": [{\"font\": \"Helvetica Neue\", \"fontSize\": \"data.val\", \"rotate\": {\"random\": [-90, -60, -30, 0, 30, 60]}, \"text\": \"data.idx\", \"type\": \"wordcloud\"}], \"values\": [{\"col\": \"data\", \"idx\": \"A\", \"val\": 10}, {\"col\": \"data\", \"idx\": \"ALL\", \"val\": 10}, {\"col\": \"data\", \"idx\": \"All\", \"val\": 10}, {\"col\": \"data\", \"idx\": \"And\", \"val\": 10}, {\"col\": \"data\", \"idx\": \"Another\", \"val\": 10}, {\"col\": \"data\", \"idx\": \"As\", \"val\": 10}, {\"col\": \"data\", \"idx\": \"At\", \"val\": 10}, {\"col\": \"data\", \"idx\": \"BOX\", \"val\": 10}, {\"col\": \"data\", \"idx\": \"BUMP\", \"val\": 10}, {\"col\": \"data\", \"idx\": \"Bump\", \"val\": 10}, {\"col\": \"data\", \"idx\": \"But\", \"val\": 10}, {\"col\": \"data\", \"idx\": \"Came\", \"val\": 10}, {\"col\": \"data\", \"idx\": \"Cat\", \"val\": 10}, {\"col\": \"data\", \"idx\": \"DO\", \"val\": 10}, {\"col\": \"data\", \"idx\": \"Did\", \"val\": 10}, {\"col\": \"data\", \"idx\": \"Do\", \"val\": 10}, {\"col\": \"data\", \"idx\": \"Down\", \"val\": 10}, {\"col\": \"data\", \"idx\": \"FUN\", \"val\": 10}, {\"col\": \"data\", \"idx\": \"Fast\", \"val\": 10}, {\"col\": \"data\", \"idx\": \"For\", \"val\": 10}, {\"col\": \"data\", \"idx\": \"Hat\", \"val\": 10}, {\"col\": \"data\", \"idx\": \"Have\", \"val\": 10}, {\"col\": \"data\", \"idx\": \"He\", \"val\": 10}, {\"col\": \"data\", \"idx\": \"Her\", \"val\": 10}, {\"col\": \"data\", \"idx\": \"How\", \"val\": 10}, {\"col\": \"data\", \"idx\": \"I\", \"val\": 10}, {\"col\": \"data\", \"idx\": \"IN\", \"val\": 10}, {\"col\": \"data\", \"idx\": \"If\", \"val\": 10}, {\"col\": \"data\", \"idx\": \"In\", \"val\": 10}, {\"col\": \"data\", \"idx\": \"It\", \"val\": 10}, {\"col\": \"data\", \"idx\": \"Look\", \"val\": 10}, {\"col\": \"data\", \"idx\": \"Make\", \"val\": 10}, {\"col\": \"data\", \"idx\": \"Mother\", \"val\": 10}, {\"col\": \"data\", \"idx\": \"Mothers\", \"val\": 10}, {\"col\": \"data\", \"idx\": \"My\", \"val\": 10}, {\"col\": \"data\", \"idx\": \"NOT\", \"val\": 10}, {\"col\": \"data\", \"idx\": \"NOW\", \"val\": 10}, {\"col\": \"data\", \"idx\": \"No\", \"val\": 10}, {\"col\": \"data\", \"idx\": \"Not\", \"val\": 10}, {\"col\": \"data\", \"idx\": \"Now\", \"val\": 10}, {\"col\": \"data\", \"idx\": \"Oh\", \"val\": 10}, {\"col\": \"data\", \"idx\": \"On\", \"val\": 10}, {\"col\": \"data\", \"idx\": \"One\", \"val\": 10}, {\"col\": \"data\", \"idx\": \"Our\", \"val\": 10}, {\"col\": \"data\", \"idx\": \"PLOP\", \"val\": 10}, {\"col\": \"data\", \"idx\": \"Put\", \"val\": 10}, {\"col\": \"data\", \"idx\": \"SHOULD\", \"val\": 10}, {\"col\": \"data\", \"idx\": \"Said\", \"val\": 10}, {\"col\": \"data\", \"idx\": \"Sally\", \"val\": 10}, {\"col\": \"data\", \"idx\": \"Sank\", \"val\": 10}, {\"col\": \"data\", \"idx\": \"Saw\", \"val\": 10}, {\"col\": \"data\", \"idx\": \"She\", \"val\": 10}, {\"col\": \"data\", \"idx\": \"Should\", \"val\": 10}, {\"col\": \"data\", \"idx\": \"Sit\", \"val\": 10}, {\"col\": \"data\", \"idx\": \"So\", \"val\": 10}, {\"col\": \"data\", \"idx\": \"THEN\", \"val\": 10}, {\"col\": \"data\", \"idx\": \"TWO\", \"val\": 10}, {\"col\": \"data\", \"idx\": \"Take\", \"val\": 10}, {\"col\": \"data\", \"idx\": \"Tell\", \"val\": 10}, {\"col\": \"data\", \"idx\": \"That\", \"val\": 10}, {\"col\": \"data\", \"idx\": \"The\", \"val\": 10}, {\"col\": \"data\", \"idx\": \"Then\", \"val\": 10}, {\"col\": \"data\", \"idx\": \"There\", \"val\": 10}, {\"col\": \"data\", \"idx\": \"These\", \"val\": 10}, {\"col\": \"data\", \"idx\": \"They\", \"val\": 10}, {\"col\": \"data\", \"idx\": \"Thing\", \"val\": 10}, {\"col\": \"data\", \"idx\": \"Things\", \"val\": 10}, {\"col\": \"data\", \"idx\": \"Think\", \"val\": 10}, {\"col\": \"data\", \"idx\": \"This\", \"val\": 10}, {\"col\": \"data\", \"idx\": \"Those\", \"val\": 10}, {\"col\": \"data\", \"idx\": \"Thump\", \"val\": 10}, {\"col\": \"data\", \"idx\": \"To\", \"val\": 10}, {\"col\": \"data\", \"idx\": \"Too\", \"val\": 10}, {\"col\": \"data\", \"idx\": \"Two\", \"val\": 10}, {\"col\": \"data\", \"idx\": \"UP\", \"val\": 10}, {\"col\": \"data\", \"idx\": \"We\", \"val\": 10}, {\"col\": \"data\", \"idx\": \"Well\", \"val\": 10}, {\"col\": \"data\", \"idx\": \"What\", \"val\": 10}, {\"col\": \"data\", \"idx\": \"When\", \"val\": 10}, {\"col\": \"data\", \"idx\": \"Who\", \"val\": 10}, {\"col\": \"data\", \"idx\": \"Why\", \"val\": 10}, {\"col\": \"data\", \"idx\": \"Will\", \"val\": 10}, {\"col\": \"data\", \"idx\": \"With\", \"val\": 10}, {\"col\": \"data\", \"idx\": \"Would\", \"val\": 10}, {\"col\": \"data\", \"idx\": \"YOU\", \"val\": 10}, {\"col\": \"data\", \"idx\": \"Yes\", \"val\": 10}, {\"col\": \"data\", \"idx\": \"You\", \"val\": 10}, {\"col\": \"data\", \"idx\": \"Your\", \"val\": 10}, {\"col\": \"data\", \"idx\": \"a\", \"val\": 10}, {\"col\": \"data\", \"idx\": \"about\", \"val\": 10}, {\"col\": \"data\", \"idx\": \"after\", \"val\": 10}, {\"col\": \"data\", \"idx\": \"all\", \"val\": 10}, {\"col\": \"data\", \"idx\": \"always\", \"val\": 10}, {\"col\": \"data\", \"idx\": \"and\", \"val\": 10}, {\"col\": \"data\", \"idx\": \"another\", \"val\": 10}, {\"col\": \"data\", \"idx\": \"any\", \"val\": 10}, {\"col\": \"data\", \"idx\": \"are\", \"val\": 10}, {\"col\": \"data\", \"idx\": \"as\", \"val\": 10}, {\"col\": \"data\", \"idx\": \"asked\", \"val\": 10}, {\"col\": \"data\", \"idx\": \"at\", \"val\": 10}, {\"col\": \"data\", \"idx\": \"away\", \"val\": 10}, {\"col\": \"data\", \"idx\": \"back\", \"val\": 10}, {\"col\": \"data\", \"idx\": \"bad\", \"val\": 10}, {\"col\": \"data\", \"idx\": \"ball\", \"val\": 10}, {\"col\": \"data\", \"idx\": \"be\", \"val\": 10}, {\"col\": \"data\", \"idx\": \"bed\", \"val\": 10}, {\"col\": \"data\", \"idx\": \"bent\", \"val\": 10}, {\"col\": \"data\", \"idx\": \"bet\", \"val\": 10}, {\"col\": \"data\", \"idx\": \"big\", \"val\": 10}, {\"col\": \"data\", \"idx\": \"bit\", \"val\": 10}, {\"col\": \"data\", \"idx\": \"bite\", \"val\": 10}, {\"col\": \"data\", \"idx\": \"book\", \"val\": 10}, {\"col\": \"data\", \"idx\": \"books\", \"val\": 10}, {\"col\": \"data\", \"idx\": \"bow\", \"val\": 10}, {\"col\": \"data\", \"idx\": \"box\", \"val\": 10}, {\"col\": \"data\", \"idx\": \"bump\", \"val\": 10}, {\"col\": \"data\", \"idx\": \"bumps\", \"val\": 10}, {\"col\": \"data\", \"idx\": \"cake\", \"val\": 10}, {\"col\": \"data\", \"idx\": \"call\", \"val\": 10}, {\"col\": \"data\", \"idx\": \"came\", \"val\": 10}, {\"col\": \"data\", \"idx\": \"can\", \"val\": 10}, {\"col\": \"data\", \"idx\": \"cat\", \"val\": 10}, {\"col\": \"data\", \"idx\": \"cold\", \"val\": 10}, {\"col\": \"data\", \"idx\": \"come\", \"val\": 10}, {\"col\": \"data\", \"idx\": \"could\", \"val\": 10}, {\"col\": \"data\", \"idx\": \"cup\", \"val\": 10}, {\"col\": \"data\", \"idx\": \"day\", \"val\": 10}, {\"col\": \"data\", \"idx\": \"dear\", \"val\": 10}, {\"col\": \"data\", \"idx\": \"deep\", \"val\": 10}, {\"col\": \"data\", \"idx\": \"did\", \"val\": 10}, {\"col\": \"data\", \"idx\": \"dish\", \"val\": 10}, {\"col\": \"data\", \"idx\": \"do\", \"val\": 10}, {\"col\": \"data\", \"idx\": \"dots\", \"val\": 10}, {\"col\": \"data\", \"idx\": \"down\", \"val\": 10}, {\"col\": \"data\", \"idx\": \"fall\", \"val\": 10}, {\"col\": \"data\", \"idx\": \"fan\", \"val\": 10}, {\"col\": \"data\", \"idx\": \"fast\", \"val\": 10}, {\"col\": \"data\", \"idx\": \"fear\", \"val\": 10}, {\"col\": \"data\", \"idx\": \"fell\", \"val\": 10}, {\"col\": \"data\", \"idx\": \"find\", \"val\": 10}, {\"col\": \"data\", \"idx\": \"fish\", \"val\": 10}, {\"col\": \"data\", \"idx\": \"fishHe\", \"val\": 10}, {\"col\": \"data\", \"idx\": \"fly\", \"val\": 10}, {\"col\": \"data\", \"idx\": \"fox\", \"val\": 10}, {\"col\": \"data\", \"idx\": \"from\", \"val\": 10}, {\"col\": \"data\", \"idx\": \"fun\", \"val\": 10}, {\"col\": \"data\", \"idx\": \"funny\", \"val\": 10}, {\"col\": \"data\", \"idx\": \"game\", \"val\": 10}, {\"col\": \"data\", \"idx\": \"games\", \"val\": 10}, {\"col\": \"data\", \"idx\": \"gave\", \"val\": 10}, {\"col\": \"data\", \"idx\": \"get\", \"val\": 10}, {\"col\": \"data\", \"idx\": \"give\", \"val\": 10}, {\"col\": \"data\", \"idx\": \"go\", \"val\": 10}, {\"col\": \"data\", \"idx\": \"gone\", \"val\": 10}, {\"col\": \"data\", \"idx\": \"good\", \"val\": 10}, {\"col\": \"data\", \"idx\": \"got\", \"val\": 10}, {\"col\": \"data\", \"idx\": \"gown\", \"val\": 10}, {\"col\": \"data\", \"idx\": \"had\", \"val\": 10}, {\"col\": \"data\", \"idx\": \"hall\", \"val\": 10}, {\"col\": \"data\", \"idx\": \"hand\", \"val\": 10}, {\"col\": \"data\", \"idx\": \"hands\", \"val\": 10}, {\"col\": \"data\", \"idx\": \"has\", \"val\": 10}, {\"col\": \"data\", \"idx\": \"hat\", \"val\": 10}, {\"col\": \"data\", \"idx\": \"have\", \"val\": 10}, {\"col\": \"data\", \"idx\": \"he\", \"val\": 10}, {\"col\": \"data\", \"idx\": \"head\", \"val\": 10}, {\"col\": \"data\", \"idx\": \"hear\", \"val\": 10}, {\"col\": \"data\", \"idx\": \"her\", \"val\": 10}, {\"col\": \"data\", \"idx\": \"here\", \"val\": 10}, {\"col\": \"data\", \"idx\": \"high\", \"val\": 10}, {\"col\": \"data\", \"idx\": \"him\", \"val\": 10}, {\"col\": \"data\", \"idx\": \"his\", \"val\": 10}, {\"col\": \"data\", \"idx\": \"hit\", \"val\": 10}, {\"col\": \"data\", \"idx\": \"hold\", \"val\": 10}, {\"col\": \"data\", \"idx\": \"home\", \"val\": 10}, {\"col\": \"data\", \"idx\": \"hook\", \"val\": 10}, {\"col\": \"data\", \"idx\": \"hop\", \"val\": 10}, {\"col\": \"data\", \"idx\": \"hops\", \"val\": 10}, {\"col\": \"data\", \"idx\": \"house\", \"val\": 10}, {\"col\": \"data\", \"idx\": \"how\", \"val\": 10}, {\"col\": \"data\", \"idx\": \"if\", \"val\": 10}, {\"col\": \"data\", \"idx\": \"in\", \"val\": 10}, {\"col\": \"data\", \"idx\": \"into\", \"val\": 10}, {\"col\": \"data\", \"idx\": \"is\", \"val\": 10}, {\"col\": \"data\", \"idx\": \"it\", \"val\": 10}, {\"col\": \"data\", \"idx\": \"jump\", \"val\": 10}, {\"col\": \"data\", \"idx\": \"jumps\", \"val\": 10}, {\"col\": \"data\", \"idx\": \"kicks\", \"val\": 10}, {\"col\": \"data\", \"idx\": \"kind\", \"val\": 10}, {\"col\": \"data\", \"idx\": \"kinds\", \"val\": 10}, {\"col\": \"data\", \"idx\": \"kit\", \"val\": 10}, {\"col\": \"data\", \"idx\": \"kite\", \"val\": 10}, {\"col\": \"data\", \"idx\": \"kites\", \"val\": 10}, {\"col\": \"data\", \"idx\": \"know\", \"val\": 10}, {\"col\": \"data\", \"idx\": \"last\", \"val\": 10}, {\"col\": \"data\", \"idx\": \"let\", \"val\": 10}, {\"col\": \"data\", \"idx\": \"like\", \"val\": 10}, {\"col\": \"data\", \"idx\": \"lit\", \"val\": 10}, {\"col\": \"data\", \"idx\": \"little\", \"val\": 10}, {\"col\": \"data\", \"idx\": \"look\", \"val\": 10}, {\"col\": \"data\", \"idx\": \"looked\", \"val\": 10}, {\"col\": \"data\", \"idx\": \"lot\", \"val\": 10}, {\"col\": \"data\", \"idx\": \"lots\", \"val\": 10}, {\"col\": \"data\", \"idx\": \"made\", \"val\": 10}, {\"col\": \"data\", \"idx\": \"man\", \"val\": 10}, {\"col\": \"data\", \"idx\": \"mat\", \"val\": 10}, {\"col\": \"data\", \"idx\": \"me\", \"val\": 10}, {\"col\": \"data\", \"idx\": \"mess\", \"val\": 10}, {\"col\": \"data\", \"idx\": \"milk\", \"val\": 10}, {\"col\": \"data\", \"idx\": \"mind\", \"val\": 10}, {\"col\": \"data\", \"idx\": \"mother\", \"val\": 10}, {\"col\": \"data\", \"idx\": \"my\", \"val\": 10}, {\"col\": \"data\", \"idx\": \"near\", \"val\": 10}, {\"col\": \"data\", \"idx\": \"net\", \"val\": 10}, {\"col\": \"data\", \"idx\": \"new\", \"val\": 10}, {\"col\": \"data\", \"idx\": \"no\", \"val\": 10}, {\"col\": \"data\", \"idx\": \"not\", \"val\": 10}, {\"col\": \"data\", \"idx\": \"nothing\", \"val\": 10}, {\"col\": \"data\", \"idx\": \"now\", \"val\": 10}, {\"col\": \"data\", \"idx\": \"of\", \"val\": 10}, {\"col\": \"data\", \"idx\": \"on\", \"val\": 10}, {\"col\": \"data\", \"idx\": \"one\", \"val\": 10}, {\"col\": \"data\", \"idx\": \"our\", \"val\": 10}, {\"col\": \"data\", \"idx\": \"out\", \"val\": 10}, {\"col\": \"data\", \"idx\": \"pack\", \"val\": 10}, {\"col\": \"data\", \"idx\": \"pat\", \"val\": 10}, {\"col\": \"data\", \"idx\": \"pick\", \"val\": 10}, {\"col\": \"data\", \"idx\": \"picked\", \"val\": 10}, {\"col\": \"data\", \"idx\": \"pink\", \"val\": 10}, {\"col\": \"data\", \"idx\": \"play\", \"val\": 10}, {\"col\": \"data\", \"idx\": \"playthings\", \"val\": 10}, {\"col\": \"data\", \"idx\": \"pot\", \"val\": 10}, {\"col\": \"data\", \"idx\": \"put\", \"val\": 10}, {\"col\": \"data\", \"idx\": \"rake\", \"val\": 10}, {\"col\": \"data\", \"idx\": \"ran\", \"val\": 10}, {\"col\": \"data\", \"idx\": \"red\", \"val\": 10}, {\"col\": \"data\", \"idx\": \"rid\", \"val\": 10}, {\"col\": \"data\", \"idx\": \"run\", \"val\": 10}, {\"col\": \"data\", \"idx\": \"sad\", \"val\": 10}, {\"col\": \"data\", \"idx\": \"said\", \"val\": 10}, {\"col\": \"data\", \"idx\": \"sank\", \"val\": 10}, {\"col\": \"data\", \"idx\": \"sat\", \"val\": 10}, {\"col\": \"data\", \"idx\": \"saw\", \"val\": 10}, {\"col\": \"data\", \"idx\": \"say\", \"val\": 10}, {\"col\": \"data\", \"idx\": \"see\", \"val\": 10}, {\"col\": \"data\", \"idx\": \"shake\", \"val\": 10}, {\"col\": \"data\", \"idx\": \"shame\", \"val\": 10}, {\"col\": \"data\", \"idx\": \"she\", \"val\": 10}, {\"col\": \"data\", \"idx\": \"shine\", \"val\": 10}, {\"col\": \"data\", \"idx\": \"ship\", \"val\": 10}, {\"col\": \"data\", \"idx\": \"shook\", \"val\": 10}, {\"col\": \"data\", \"idx\": \"should\", \"val\": 10}, {\"col\": \"data\", \"idx\": \"show\", \"val\": 10}, {\"col\": \"data\", \"idx\": \"shut\", \"val\": 10}, {\"col\": \"data\", \"idx\": \"sit\", \"val\": 10}, {\"col\": \"data\", \"idx\": \"so\", \"val\": 10}, {\"col\": \"data\", \"idx\": \"some\", \"val\": 10}, {\"col\": \"data\", \"idx\": \"something\", \"val\": 10}, {\"col\": \"data\", \"idx\": \"stand\", \"val\": 10}, {\"col\": \"data\", \"idx\": \"step\", \"val\": 10}, {\"col\": \"data\", \"idx\": \"stop\", \"val\": 10}, {\"col\": \"data\", \"idx\": \"string\", \"val\": 10}, {\"col\": \"data\", \"idx\": \"strings\", \"val\": 10}, {\"col\": \"data\", \"idx\": \"sun\", \"val\": 10}, {\"col\": \"data\", \"idx\": \"sunny\", \"val\": 10}, {\"col\": \"data\", \"idx\": \"tail\", \"val\": 10}, {\"col\": \"data\", \"idx\": \"take\", \"val\": 10}, {\"col\": \"data\", \"idx\": \"tall\", \"val\": 10}, {\"col\": \"data\", \"idx\": \"tame\", \"val\": 10}, {\"col\": \"data\", \"idx\": \"tell\", \"val\": 10}, {\"col\": \"data\", \"idx\": \"that\", \"val\": 10}, {\"col\": \"data\", \"idx\": \"the\", \"val\": 100}, {\"col\": \"data\", \"idx\": \"their\", \"val\": 10}, {\"col\": \"data\", \"idx\": \"them\", \"val\": 10}, {\"col\": \"data\", \"idx\": \"then\", \"val\": 10}, {\"col\": \"data\", \"idx\": \"there\", \"val\": 10}, {\"col\": \"data\", \"idx\": \"these\", \"val\": 10}, {\"col\": \"data\", \"idx\": \"they\", \"val\": 10}, {\"col\": \"data\", \"idx\": \"things\", \"val\": 10}, {\"col\": \"data\", \"idx\": \"this\", \"val\": 10}, {\"col\": \"data\", \"idx\": \"those\", \"val\": 10}, {\"col\": \"data\", \"idx\": \"thumps\", \"val\": 10}, {\"col\": \"data\", \"idx\": \"tip\", \"val\": 10}, {\"col\": \"data\", \"idx\": \"to\", \"val\": 10}, {\"col\": \"data\", \"idx\": \"too\", \"val\": 10}, {\"col\": \"data\", \"idx\": \"top\", \"val\": 10}, {\"col\": \"data\", \"idx\": \"toy\", \"val\": 10}, {\"col\": \"data\", \"idx\": \"trick\", \"val\": 10}, {\"col\": \"data\", \"idx\": \"tricks\", \"val\": 10}, {\"col\": \"data\", \"idx\": \"two\", \"val\": 10}, {\"col\": \"data\", \"idx\": \"up\", \"val\": 10}, {\"col\": \"data\", \"idx\": \"us\", \"val\": 10}, {\"col\": \"data\", \"idx\": \"wall\", \"val\": 10}, {\"col\": \"data\", \"idx\": \"want\", \"val\": 10}, {\"col\": \"data\", \"idx\": \"was\", \"val\": 10}, {\"col\": \"data\", \"idx\": \"way\", \"val\": 10}, {\"col\": \"data\", \"idx\": \"we\", \"val\": 10}, {\"col\": \"data\", \"idx\": \"went\", \"val\": 10}, {\"col\": \"data\", \"idx\": \"were\", \"val\": 10}, {\"col\": \"data\", \"idx\": \"wet\", \"val\": 10}, {\"col\": \"data\", \"idx\": \"what\", \"val\": 10}, {\"col\": \"data\", \"idx\": \"when\", \"val\": 10}, {\"col\": \"data\", \"idx\": \"white\", \"val\": 10}, {\"col\": \"data\", \"idx\": \"will\", \"val\": 10}, {\"col\": \"data\", \"idx\": \"wish\", \"val\": 10}, {\"col\": \"data\", \"idx\": \"with\", \"val\": 10}, {\"col\": \"data\", \"idx\": \"wood\", \"val\": 10}, {\"col\": \"data\", \"idx\": \"would\", \"val\": 10}, {\"col\": \"data\", \"idx\": \"yet\", \"val\": 10}, {\"col\": \"data\", \"idx\": \"you\", \"val\": 10}, {\"col\": \"data\", \"idx\": \"your\", \"val\": 10}]}], \"height\": 500, \"legends\": [], \"marks\": [{\"from\": {\"data\": \"table\"}, \"properties\": {\"enter\": {\"align\": {\"value\": \"center\"}, \"angle\": {\"field\": \"angle\"}, \"baseline\": {\"value\": \"middle\"}, \"fill\": {\"field\": \"data.idx\", \"scale\": \"color\"}, \"font\": {\"field\": \"font\"}, \"fontSize\": {\"field\": \"fontSize\"}, \"text\": {\"field\": \"data.idx\"}, \"x\": {\"field\": \"x\"}, \"y\": {\"field\": \"y\"}}}, \"type\": \"text\"}], \"padding\": \"auto\", \"scales\": [{\"domain\": {\"data\": \"table\", \"field\": \"data.idx\"}, \"name\": \"color\", \"range\": \"category10\", \"type\": \"ordinal\"}], \"width\": 960}, function(chart) {\n",
        "         chart({el: \"#vis46cf49f3176b47f293d63e13bdf2c594\"}).update();\n",
        "       });\n",
        "     };\n",
        "     _do_plot();\n",
        "   })();\n",
        "</script>\n",
        "<style>.vega canvas {width: 100%;}</style>\n",
        "        "
       ],
       "metadata": {},
       "output_type": "pyout",
       "prompt_number": 27,
       "text": [
        "<vincent.charts.Word at 0x1098ada90>"
       ]
      }
     ],
     "prompt_number": 27
    }
   ],
   "metadata": {}
  }
 ]
}